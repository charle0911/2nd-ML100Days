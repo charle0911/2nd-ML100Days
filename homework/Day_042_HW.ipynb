{
  "nbformat": 4,
  "nbformat_minor": 0,
  "metadata": {
    "colab": {
      "name": "Day_042_HW.ipynb",
      "version": "0.3.2",
      "provenance": [],
      "collapsed_sections": [],
      "toc_visible": true,
      "include_colab_link": true
    },
    "language_info": {
      "codemirror_mode": {
        "name": "ipython",
        "version": 3
      },
      "file_extension": ".py",
      "mimetype": "text/x-python",
      "name": "python",
      "nbconvert_exporter": "python",
      "pygments_lexer": "ipython3",
      "version": "3.6.2"
    },
    "kernelspec": {
      "display_name": "Python 3",
      "language": "python",
      "name": "python3"
    }
  },
  "cells": [
    {
      "cell_type": "markdown",
      "metadata": {
        "id": "view-in-github",
        "colab_type": "text"
      },
      "source": [
        "<a href=\"https://colab.research.google.com/github/charle0911/2nd-ML100Days/blob/master/homework/Day_042_HW.ipynb\" target=\"_parent\"><img src=\"https://colab.research.google.com/assets/colab-badge.svg\" alt=\"Open In Colab\"/></a>"
      ]
    },
    {
      "cell_type": "markdown",
      "metadata": {
        "id": "3lGEbhgJcDKY",
        "colab_type": "text"
      },
      "source": [
        "## [作業重點]\n",
        "目前你應該已經要很清楚資料集中，資料的型態是什麼樣子囉！包含特徵 (features) 與標籤 (labels)。因此要記得未來不管什麼專案，必須要把資料清理成相同的格式，才能送進模型訓練。\n",
        "今天的作業開始踏入決策樹這個非常重要的模型，請務必確保你理解模型中每個超參數的意思，並試著調整看看，對最終預測結果的影響為何"
      ]
    },
    {
      "cell_type": "markdown",
      "metadata": {
        "id": "28bQQkBrcDKd",
        "colab_type": "text"
      },
      "source": [
        "## 作業\n",
        "\n",
        "1. 試著調整 DecisionTreeClassifier(...) 中的參數，並觀察是否會改變結果？\n",
        "2. 改用其他資料集 (boston, wine)，並與回歸模型的結果進行比較"
      ]
    },
    {
      "cell_type": "markdown",
      "metadata": {
        "id": "MmoX-fCheqPh",
        "colab_type": "text"
      },
      "source": [
        "# Ans1\n"
      ]
    },
    {
      "cell_type": "code",
      "metadata": {
        "id": "K_7BZpgPcyb4",
        "colab_type": "code",
        "colab": {}
      },
      "source": [
        "from sklearn import datasets, metrics\n",
        "\n",
        "# 如果是分類問題，請使用 DecisionTreeClassifier，若為回歸問題，請使用 DecisionTreeRegressor\n",
        "from sklearn.tree import DecisionTreeClassifier, DecisionTreeRegressor\n",
        "from sklearn.model_selection import train_test_split"
      ],
      "execution_count": 0,
      "outputs": []
    },
    {
      "cell_type": "code",
      "metadata": {
        "id": "0DRGNucKc1Fe",
        "colab_type": "code",
        "colab": {}
      },
      "source": [
        "# 讀取鳶尾花資料集\n",
        "iris = datasets.load_iris()\n",
        "\n",
        "# 切分訓練集/測試集\n",
        "x_train, x_test, y_train, y_test = train_test_split(iris.data, iris.target, test_size=0.25, random_state=4)\n",
        "\n",
        "# 建立模型(原)\n",
        "clf = DecisionTreeClassifier()\n",
        "\n",
        "# 建立模型(更動)\n",
        "clf2 = DecisionTreeClassifier(min_samples_split=2,min_samples_leaf=1,max_depth=2)\n",
        "\n",
        "# 訓練模型\n",
        "clf.fit(x_train, y_train)\n",
        "clf2.fit(x_train, y_train)\n",
        "\n",
        "# 預測測試集\n",
        "y_pred = clf.predict(x_test)\n",
        "y_pred2 = clf2.predict(x_test)"
      ],
      "execution_count": 0,
      "outputs": []
    },
    {
      "cell_type": "code",
      "metadata": {
        "id": "0Wc4rVMqc9i1",
        "colab_type": "code",
        "outputId": "bb2fa2fd-7b7c-46b3-eecf-5b449a034620",
        "colab": {
          "base_uri": "https://localhost:8080/",
          "height": 50
        }
      },
      "source": [
        "acc = metrics.accuracy_score(y_test, y_pred)\n",
        "print(\"Acuuracy: \", acc)\n",
        "acc2 = metrics.accuracy_score(y_test, y_pred2)\n",
        "print(\"Acuuracy: \", acc2)"
      ],
      "execution_count": 0,
      "outputs": [
        {
          "output_type": "stream",
          "text": [
            "Acuuracy:  0.9736842105263158\n",
            "Acuuracy:  0.9736842105263158\n"
          ],
          "name": "stdout"
        }
      ]
    },
    {
      "cell_type": "code",
      "metadata": {
        "id": "cV1YaWK1dA8d",
        "colab_type": "code",
        "outputId": "7348ae33-77d5-44d2-c076-a5feeaba91d5",
        "colab": {
          "base_uri": "https://localhost:8080/",
          "height": 34
        }
      },
      "source": [
        "print(iris.feature_names)"
      ],
      "execution_count": 0,
      "outputs": [
        {
          "output_type": "stream",
          "text": [
            "['sepal length (cm)', 'sepal width (cm)', 'petal length (cm)', 'petal width (cm)']\n"
          ],
          "name": "stdout"
        }
      ]
    },
    {
      "cell_type": "code",
      "metadata": {
        "id": "2iGeEABRdChl",
        "colab_type": "code",
        "outputId": "00dbcd1b-c743-4b56-d9b3-a37be8d63d2f",
        "colab": {
          "base_uri": "https://localhost:8080/",
          "height": 50
        }
      },
      "source": [
        "print(\"Feature importance: \", clf.feature_importances_)\n",
        "print(\"Feature importance: \", clf2.feature_importances_)"
      ],
      "execution_count": 0,
      "outputs": [
        {
          "output_type": "stream",
          "text": [
            "Feature importance:  [0.01796599 0.         0.05992368 0.92211033]\n",
            "Feature importance:  [0. 0. 0. 1.]\n"
          ],
          "name": "stdout"
        }
      ]
    },
    {
      "cell_type": "code",
      "metadata": {
        "id": "IjqfiIxMdDqZ",
        "colab_type": "code",
        "outputId": "4524fb9d-cf7b-4f5c-b574-eacbf11ee7c2",
        "colab": {
          "base_uri": "https://localhost:8080/",
          "height": 365
        }
      },
      "source": [
        "from sklearn.externals.six import StringIO  \n",
        "from IPython.display import Image  \n",
        "from sklearn.tree import export_graphviz\n",
        "import pydotplus\n",
        "dot_data = StringIO()\n",
        "export_graphviz(clf2, out_file=dot_data,  \n",
        "                filled=True, rounded=True,\n",
        "                special_characters=True)\n",
        "graph = pydotplus.graph_from_dot_data(dot_data.getvalue())  \n",
        "Image(graph.create_png())"
      ],
      "execution_count": 0,
      "outputs": [
        {
          "output_type": "execute_result",
          "data": {
            "image/png": "[encoded data removed]",
            "text/plain": [
              "<IPython.core.display.Image object>"
            ]
          },
          "metadata": {
            "tags": []
          },
          "execution_count": 44
        }
      ]
    },
    {
      "cell_type": "markdown",
      "metadata": {
        "id": "5EhQDHPset_p",
        "colab_type": "text"
      },
      "source": [
        "# Ans2\n"
      ]
    },
    {
      "cell_type": "code",
      "metadata": {
        "id": "hKf7sbqcexS-",
        "colab_type": "code",
        "colab": {}
      },
      "source": [
        "# 讀取波士頓資料集\n",
        "boston = datasets.load_boston()\n",
        "\n",
        "# 切分訓練集/測試集\n",
        "x_train, x_test, y_train, y_test = train_test_split(boston.data, boston.target, test_size=0.25, random_state=4)\n",
        "\n",
        "# 建立模型(原)\n",
        "clfB = DecisionTreeRegressor()\n",
        "\n",
        "# 建立模型(更動)\n",
        "clfB2 = DecisionTreeRegressor(min_samples_split=2,min_samples_leaf=1,max_depth=5)\n",
        "\n",
        "# 訓練模型\n",
        "clfB.fit(x_train, y_train)\n",
        "clfB2.fit(x_train, y_train)\n",
        "\n",
        "# 預測測試集\n",
        "y_pred = clfB.predict(x_test)\n",
        "y_pred2 = clfB2.predict(x_test)"
      ],
      "execution_count": 0,
      "outputs": []
    },
    {
      "cell_type": "code",
      "metadata": {
        "id": "QRvqaeD1kG1a",
        "colab_type": "code",
        "outputId": "750df836-4b6c-478d-f4a7-63569f494eec",
        "colab": {
          "base_uri": "https://localhost:8080/",
          "height": 50
        }
      },
      "source": [
        "print(boston.feature_names)"
      ],
      "execution_count": 0,
      "outputs": [
        {
          "output_type": "stream",
          "text": [
            "['CRIM' 'ZN' 'INDUS' 'CHAS' 'NOX' 'RM' 'AGE' 'DIS' 'RAD' 'TAX' 'PTRATIO'\n",
            " 'B' 'LSTAT']\n"
          ],
          "name": "stdout"
        }
      ]
    },
    {
      "cell_type": "code",
      "metadata": {
        "id": "TGPpoSgwkJqo",
        "colab_type": "code",
        "outputId": "d1abe1c0-34a3-4b56-bc0c-6069349b9f78",
        "colab": {
          "base_uri": "https://localhost:8080/",
          "height": 134
        }
      },
      "source": [
        "print(\"Feature importance: \", clfB.feature_importances_)\n",
        "print(\"Feature importance: \", clfB2.feature_importances_)"
      ],
      "execution_count": 0,
      "outputs": [
        {
          "output_type": "stream",
          "text": [
            "Feature importance:  [6.45939204e-02 1.69563221e-03 1.15973691e-02 8.00844838e-05\n",
            " 2.88244454e-02 5.41439990e-01 2.08978074e-02 6.74848406e-02\n",
            " 5.77490092e-04 1.02611108e-02 2.05042700e-02 1.01973199e-02\n",
            " 2.21845719e-01]\n",
            "Feature importance:  [0.06456084 0.         0.00552004 0.01041665 0.02428222 0.58671076\n",
            " 0.00148896 0.05641972 0.         0.         0.01488899 0.00310621\n",
            " 0.23260561]\n"
          ],
          "name": "stdout"
        }
      ]
    },
    {
      "cell_type": "code",
      "metadata": {
        "id": "aF1Vrbi1ig48",
        "colab_type": "code",
        "outputId": "3783f37e-47ea-4362-f376-d7d8ff51f4f9",
        "colab": {
          "base_uri": "https://localhost:8080/",
          "height": 50
        }
      },
      "source": [
        "\n",
        "# 預測值與實際值的差距，使用 MSE\n",
        "print(\"Mean squared error: %.2f\"\n",
        "      % metrics.mean_squared_error(y_test, y_pred))\n",
        "\n",
        "# 預測值與實際值的差距，使用 MSE\n",
        "print(\"Mean squared error: %.2f\"\n",
        "      % metrics.mean_squared_error(y_test, y_pred2))"
      ],
      "execution_count": 0,
      "outputs": [
        {
          "output_type": "stream",
          "text": [
            "Mean squared error: 27.24\n",
            "Mean squared error: 27.35\n"
          ],
          "name": "stdout"
        }
      ]
    },
    {
      "cell_type": "code",
      "metadata": {
        "id": "d8clVUSnkl4x",
        "colab_type": "code",
        "colab": {}
      },
      "source": [
        ""
      ],
      "execution_count": 0,
      "outputs": []
    }
  ]
}