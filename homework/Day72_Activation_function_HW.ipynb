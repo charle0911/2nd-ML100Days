{
  "nbformat": 4,
  "nbformat_minor": 0,
  "metadata": {
    "kernelspec": {
      "display_name": "Python 3",
      "language": "python",
      "name": "python3"
    },
    "language_info": {
      "codemirror_mode": {
        "name": "ipython",
        "version": 3
      },
      "file_extension": ".py",
      "mimetype": "text/x-python",
      "name": "python",
      "nbconvert_exporter": "python",
      "pygments_lexer": "ipython3",
      "version": "3.7.0"
    },
    "colab": {
      "name": "Day72-Activation_function_HW.ipynb",
      "version": "0.3.2",
      "provenance": [],
      "include_colab_link": true
    }
  },
  "cells": [
    {
      "cell_type": "markdown",
      "metadata": {
        "id": "view-in-github",
        "colab_type": "text"
      },
      "source": [
        "<a href=\"https://colab.research.google.com/github/charle0911/2nd-ML100Days/blob/master/homework/Day72_Activation_function_HW.ipynb\" target=\"_parent\"><img src=\"https://colab.research.google.com/assets/colab-badge.svg\" alt=\"Open In Colab\"/></a>"
      ]
    },
    {
      "cell_type": "markdown",
      "metadata": {
        "id": "bozxlqgtxyH5",
        "colab_type": "text"
      },
      "source": [
        "# 作業目標:\n",
        "    寫出 ReLU & dReLU 一階導數\n",
        "    並列印\n"
      ]
    },
    {
      "cell_type": "markdown",
      "metadata": {
        "id": "z3qPKXNZxyH7",
        "colab_type": "text"
      },
      "source": [
        "# 作業重點\n",
        "\n",
        "# Rectified Linear Unit- Relu \n",
        "\n",
        "f(x)=max(0,x)\n"
      ]
    },
    {
      "cell_type": "code",
      "metadata": {
        "id": "obEbpVSAxyH-",
        "colab_type": "code",
        "colab": {}
      },
      "source": [
        "import numpy as np\n",
        "from numpy import *\n",
        "import matplotlib.pylab as plt\n",
        "%matplotlib inline\n",
        "\n",
        "'''\n",
        "作業:\n",
        "    寫出 ReLU & dReLU 一階導數\n",
        "    並列印\n",
        "'''\n",
        "\n",
        "def ReLU(x) :\n",
        "  return abs(x) * (x>0)\n",
        "\n",
        "def dReLU(x) :\n",
        "  return (1*(x>0))"
      ],
      "execution_count": 0,
      "outputs": []
    },
    {
      "cell_type": "code",
      "metadata": {
        "id": "riD8lLz0xyIF",
        "colab_type": "code",
        "colab": {
          "base_uri": "https://localhost:8080/",
          "height": 545
        },
        "outputId": "b1e36ce8-2524-41d9-a7ae-490b55655ecc"
      },
      "source": [
        "# linespace generate an array from start and stop value\n",
        "# with requested number of elements. Example 10 elements or 100 elements.\n",
        "x = plt.linspace(-10,10,100)\n",
        "\n",
        "# prepare the plot, associate the color r(ed) or b(lue) and the label \n",
        "plt.plot(x, ReLU(x), 'b', label='linspace(-10,10,10)')\n",
        "\n",
        "\n",
        "# 顯現圖示的Title\n",
        "plt.title('ReLU Function')\n",
        "\n",
        " \n",
        "# create the graph\n",
        "plt.show()\n",
        "\n",
        "plt.linspace(-10,10,100)\n",
        "\n",
        "# prepare the plot, associate the color r(ed) or b(lue) and the label \n",
        "plt.plot(x, dReLU(x), 'b', label='linspace(-10,10,10)')\n",
        "\n",
        "\n",
        "# 顯現圖示的Title\n",
        "plt.title('dReLU Function')\n",
        "\n",
        " \n",
        "# create the graph\n",
        "plt.show()"
      ],
      "execution_count": 7,
      "outputs": [
        {
          "output_type": "display_data",
          "data": {
            "image/png": "[encoded data removed]",
            "text/plain": [
              "<Figure size 432x288 with 1 Axes>"
            ]
          },
          "metadata": {
            "tags": []
          }
        },
        {
          "output_type": "display_data",
          "data": {
            "image/png": "[encoded data removed]",
            "text/plain": [
              "<Figure size 432x288 with 1 Axes>"
            ]
          },
          "metadata": {
            "tags": []
          }
        }
      ]
    },
    {
      "cell_type": "code",
      "metadata": {
        "id": "hmssBgr96e2z",
        "colab_type": "code",
        "colab": {}
      },
      "source": [
        ""
      ],
      "execution_count": 0,
      "outputs": []
    }
  ]
}