{
 "cells": [
  {
   "cell_type": "markdown",
   "metadata": {},
   "source": [
    "## 作業1\n",
    "\n",
    "Competitions : https://www.kaggle.com/c/two-sigma-financial-news/overview\n",
    "\n",
    "Title - Two Sigma: Using News to Predict Stock Movements.\n",
    "Description - Use news analytics to predict stock price performance\n",
    "\n",
    "#### 1. 你選的這組資料為何重要\n",
    "投資常常因為資訊的不對稱，導致企業透過媒體操縱短期的股價，此資料集可以找出最常使用此手法的企業，也可以透過此資料預測新聞發佈後相關企業的股價走向。\n",
    "\n",
    "#### 2. 資料從何而來 (tips: 譬如提供者是誰、以什麼方式蒐集)\n",
    "Market Data : Intrinio - finacial data API開發商\n",
    "蒐集方法 :透過各國類似國家金管會提供的股價走勢\n",
    "\n",
    "News Data : Thomson Reuters - 大眾媒體資料提供商\n",
    "蒐集方法 : 透過旗下相關媒體資料提供\n",
    "\n",
    "#### 3. 蒐集而來的資料型態為何\n",
    "CSV格式\n",
    "\n",
    "#### 4. 這組資料想解決的問題如何評估\n",
    "可以根據News Data中的情緒指數與新聞觀看人數、留言數判斷新聞的傳播力，根據歷史資料軌跡判斷明日漲幅。\n"
   ]
  },
  {
   "cell_type": "markdown",
   "metadata": {},
   "source": [
    "## 作業2：\n",
    "\n",
    "想像你經營一個自由載客車隊，你希望能透過數據分析以提升業績，請你思考並描述你如何規劃整體的分析/解決方案：\n",
    "\n",
    "#### 1. 核心問題為何 (tips：如何定義 「提升業績 & 你的假設」)\n",
    "\n",
    "**假設車隊司機只需要負擔油錢中定義獲利，而車子營利配備只有單純的跳錶、導航**\n",
    "\n",
    "個體司機獲利 : 營業額 (客戶給的錢) - 成本 (油錢) - 車隊抽成(單日營業額與車隊簽約金)\n",
    "\n",
    "車隊獲利 : 車隊抽成(單日營業額與車隊簽約金) - 隱形成本 (汽車維修費用+罰單金額)\n",
    "\n",
    "如果要提升業績，則讓車隊抽成最大化與隱形成本最小化，代表讓個體司機的單日營業額上升並且讓車隊的司機數量(單日營業額來源數量與簽約金)也上升，並且讓隱形成本下降(降低司機的汽車損壞與避免違規)。\n",
    "\n",
    "所以可以透過數據分析以下\n",
    "1. 選客 : 哪些時間點和起訖地點可以讓收益最大化。\n",
    "2. 行車路段 : 哪些路段容易造成車體損壞和違規機率高。\n",
    "\n",
    "#### 2. 資料從何而來 (tips：哪些資料可能會對你想問的問題產生影響 & 資料如何蒐集)\n",
    "假設在引進數據分析前，車隊為傳統車隊，沒有sensor和車連網的幫助只有最基本的數據。\n",
    "\n",
    "問題一的解決方法所需資料可以透過以下:\n",
    "\n",
    "1. 跳表計算器 : 跳錶計算器供應商提供，資料內容 : 跳錶開始地點、行走距離、怠速時間(等紅綠燈)、跳錶結束地點、費用\n",
    "2. 導航(Google Maps) : Google Map使用紀錄， 資料內容 : 行車紀錄\n",
    "3. 司機的成本花費 : 司機申報，資料內容 : 油錢、罰單錢、維修費用\n",
    "4. 客服資訊 : 客服人員記錄，資料內容 : 投訴電話、叫車電話資訊 (地點、時間、電話)\n",
    "\n",
    "#### 3. 蒐集而來的資料型態為何\n",
    "\n",
    "1. 跳錶計算器 : 數據(數字)\n",
    "2. 導航 : 行車紀錄 (路名字串)\n",
    "3. 成本花費 : 會計的財務紀錄 (發票字串與數字)\n",
    "4. 客服資訊 : 客服紀錄內容(投訴內容字串)與電話錄音 (音檔)\n",
    "\n",
    "#### 4. 你要回答的問題，其如何評估 (tips：你的假設如何驗證)\n",
    "\n",
    "透過每日數據更新收集實踐後的數據進行挑整，而方法驗證關鍵指標如下\n",
    "\n",
    "1. 司機是否有增加收益\n",
    "2. 加入車隊的詢問電話是否有變多\n",
    "3. 罰單數量下降\n",
    "4. 維修費用下降\n"
   ]
  },
  {
   "cell_type": "markdown",
   "metadata": {},
   "source": [
    "## 作業三\n",
    "#### 請寫一個函式用來計算 Mean Square Error\n",
    "$ MSE = \\frac{1}{n}\\sum_{i=1}^{n}{(Y_i - \\hat{Y}_i)^2} $\n",
    "\n",
    "### Hint: [如何取平方](https://googoodesign.gitbooks.io/-ezpython/unit-1.html)"
   ]
  },
  {
   "cell_type": "code",
   "execution_count": 1,
   "metadata": {},
   "outputs": [],
   "source": [
    "import numpy as np\n",
    "import matplotlib.pyplot as plt"
   ]
  },
  {
   "cell_type": "code",
   "execution_count": 2,
   "metadata": {},
   "outputs": [],
   "source": [
    "def mean_absolute_error(y, yp):\n",
    "    \"\"\"\n",
    "    計算 MAE\n",
    "    Args:\n",
    "        - y: 實際值\n",
    "        - yp: 預測值\n",
    "    Return:\n",
    "        - mae: MAE\n",
    "    \"\"\"\n",
    "    mae = MAE = sum(abs(y - yp)) / len(y)\n",
    "    return mae"
   ]
  },
  {
   "cell_type": "code",
   "execution_count": 3,
   "metadata": {},
   "outputs": [],
   "source": [
    "def mean_squared_error(y, yp):\n",
    "    \"\"\"\n",
    "    計算 MSE\n",
    "    Args:\n",
    "        - y: 實際值\n",
    "        - yp: 預測值\n",
    "    Return:\n",
    "        - mse: MSE\n",
    "    \"\"\"\n",
    "    mse = MSE = sum((y - yp)**2) / len(y)\n",
    "    return mse\n"
   ]
  },
  {
   "cell_type": "code",
   "execution_count": 4,
   "metadata": {},
   "outputs": [
    {
     "data": {
      "image/png": "[encoded data removed]",
      "text/plain": [
       "<Figure size 432x288 with 1 Axes>"
      ]
     },
     "metadata": {
      "needs_background": "light"
     },
     "output_type": "display_data"
    }
   ],
   "source": [
    "w = 3\n",
    "b = 0.5\n",
    "\n",
    "x_lin = np.linspace(0, 100, 101)\n",
    "\n",
    "y = (x_lin + np.random.randn(101) * 5) * w + b\n",
    "\n",
    "plt.plot(x_lin, y, 'b.', label = 'data points')\n",
    "plt.title(\"Assume we have data points\")\n",
    "plt.legend(loc = 2)\n",
    "plt.show()"
   ]
  },
  {
   "cell_type": "code",
   "execution_count": 5,
   "metadata": {},
   "outputs": [
    {
     "data": {
      "image/png": "[encoded data removed]",
      "text/plain": [
       "<Figure size 432x288 with 1 Axes>"
      ]
     },
     "metadata": {
      "needs_background": "light"
     },
     "output_type": "display_data"
    }
   ],
   "source": [
    "y_hat = x_lin * w + b\n",
    "plt.plot(x_lin, y, 'b.', label = 'data')\n",
    "plt.plot(x_lin, y_hat, 'r-', label = 'prediction')\n",
    "plt.title(\"Assume we have data points (And the prediction)\")\n",
    "plt.legend(loc = 2)\n",
    "plt.show()"
   ]
  },
  {
   "cell_type": "code",
   "execution_count": 6,
   "metadata": {},
   "outputs": [
    {
     "name": "stdout",
     "output_type": "stream",
     "text": [
      "The Mean squared error is 255.381\n",
      "The Mean absolute error is 12.559\n"
     ]
    }
   ],
   "source": [
    "# 執行 Function, 確認有沒有正常執行\n",
    "MSE = mean_squared_error(y, y_hat)\n",
    "MAE = mean_absolute_error(y, y_hat)\n",
    "print(\"The Mean squared error is %.3f\" % (MSE))\n",
    "print(\"The Mean absolute error is %.3f\" % (MAE))"
   ]
  }
 ],
 "metadata": {
  "anaconda-cloud": {},
  "kernelspec": {
   "display_name": "Python 3",
   "language": "python",
   "name": "python3"
  },
  "language_info": {
   "codemirror_mode": {
    "name": "ipython",
    "version": 3
   },
   "file_extension": ".py",
   "mimetype": "text/x-python",
   "name": "python",
   "nbconvert_exporter": "python",
   "pygments_lexer": "ipython3",
   "version": "3.7.3"
  }
 },
 "nbformat": 4,
 "nbformat_minor": 1
}
