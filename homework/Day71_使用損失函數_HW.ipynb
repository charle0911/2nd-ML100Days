{
  "nbformat": 4,
  "nbformat_minor": 0,
  "metadata": {
    "colab": {
      "name": "Day71-使用損失函數_HW.ipynb",
      "version": "0.3.2",
      "provenance": [],
      "include_colab_link": true
    },
    "kernelspec": {
      "display_name": "Python 3",
      "language": "python",
      "name": "python3"
    },
    "language_info": {
      "codemirror_mode": {
        "name": "ipython",
        "version": 3
      },
      "file_extension": ".py",
      "mimetype": "text/x-python",
      "name": "python",
      "nbconvert_exporter": "python",
      "pygments_lexer": "ipython3",
      "version": "3.7.0"
    }
  },
  "cells": [
    {
      "cell_type": "markdown",
      "metadata": {
        "id": "view-in-github",
        "colab_type": "text"
      },
      "source": [
        "<a href=\"https://colab.research.google.com/github/charle0911/2nd-ML100Days/blob/master/homework/Day71_%E4%BD%BF%E7%94%A8%E6%90%8D%E5%A4%B1%E5%87%BD%E6%95%B8_HW.ipynb\" target=\"_parent\"><img src=\"https://colab.research.google.com/assets/colab-badge.svg\" alt=\"Open In Colab\"/></a>"
      ]
    },
    {
      "cell_type": "markdown",
      "metadata": {
        "colab_type": "text",
        "id": "cj4tE8e8iUtO"
      },
      "source": [
        "#   \n",
        "\n",
        "# 作業目標:\n",
        "\n",
        "    1. 藉由固定的 dataset, 來驗證不同loss function\n",
        "    2. Dataset 的特性跟我們選用的loss function 對accrancy 的影響\n",
        "    \n",
        "    \n",
        "# 作業重點: \n",
        "    請分別選用 \"MSE\", \"binary _crossentropy\"\n",
        "    查看Train/test accurancy and loss rate\n",
        "    "
      ]
    },
    {
      "cell_type": "markdown",
      "metadata": {
        "colab_type": "text",
        "id": "R51J4KyyiUsL"
      },
      "source": [
        "# 導入必要的函數"
      ]
    },
    {
      "cell_type": "code",
      "metadata": {
        "colab_type": "code",
        "id": "Qd68OQjciUsM",
        "colab": {}
      },
      "source": [
        "from keras.datasets import cifar10\n",
        "import numpy as np\n",
        "np.random.seed(10)"
      ],
      "execution_count": 0,
      "outputs": []
    },
    {
      "cell_type": "markdown",
      "metadata": {
        "colab_type": "text",
        "id": "GxKuzQLQiUsP"
      },
      "source": [
        "# 資料準備"
      ]
    },
    {
      "cell_type": "code",
      "metadata": {
        "colab_type": "code",
        "id": "MIbFZdTCiUsQ",
        "colab": {}
      },
      "source": [
        "#取得Keras Dataset\n",
        "(x_img_train,y_label_train),(x_img_test,y_label_test)=cifar10.load_data()"
      ],
      "execution_count": 0,
      "outputs": []
    },
    {
      "cell_type": "code",
      "metadata": {
        "colab_type": "code",
        "id": "J8CJVjNOiUsS",
        "colab": {
          "base_uri": "https://localhost:8080/",
          "height": 50
        },
        "outputId": "b6bbd918-c162-4956-b3d8-ca1d56704c2c"
      },
      "source": [
        "#確認 CIFAR10 Dataset 資料維度\n",
        "print(\"train data:\",'images:',x_img_train.shape,\n",
        "      \" labels:\",y_label_train.shape) \n",
        "print(\"test  data:\",'images:',x_img_test.shape ,\n",
        "      \" labels:\",y_label_test.shape) "
      ],
      "execution_count": 31,
      "outputs": [
        {
          "output_type": "stream",
          "text": [
            "train data: images: (50000, 32, 32, 3)  labels: (50000, 1)\n",
            "test  data: images: (10000, 32, 32, 3)  labels: (10000, 1)\n"
          ],
          "name": "stdout"
        }
      ]
    },
    {
      "cell_type": "code",
      "metadata": {
        "colab_type": "code",
        "id": "V3P6P4DXiUsV",
        "colab": {}
      },
      "source": [
        "#資料正規化\n",
        "x_img_train_normalize = x_img_train.astype('float32') / 255.0\n",
        "x_img_test_normalize = x_img_test.astype('float32') / 255.0"
      ],
      "execution_count": 0,
      "outputs": []
    },
    {
      "cell_type": "code",
      "metadata": {
        "colab_type": "code",
        "id": "vsDyjKYliUsX",
        "colab": {
          "base_uri": "https://localhost:8080/",
          "height": 34
        },
        "outputId": "a93e3c29-6dd9-4029-ec1f-bddd11d3a8d4"
      },
      "source": [
        "#針對Label 做 ONE HOT ENCODE\n",
        "from keras.utils import np_utils\n",
        "y_label_train_OneHot = np_utils.to_categorical(y_label_train)\n",
        "y_label_test_OneHot = np_utils.to_categorical(y_label_test)\n",
        "y_label_test_OneHot.shape"
      ],
      "execution_count": 33,
      "outputs": [
        {
          "output_type": "execute_result",
          "data": {
            "text/plain": [
              "(10000, 10)"
            ]
          },
          "metadata": {
            "tags": []
          },
          "execution_count": 33
        }
      ]
    },
    {
      "cell_type": "markdown",
      "metadata": {
        "colab_type": "text",
        "id": "RutW2OtgiUsZ"
      },
      "source": [
        "# 建立模型"
      ]
    },
    {
      "cell_type": "code",
      "metadata": {
        "colab_type": "code",
        "id": "aHz592aXiUsa",
        "colab": {}
      },
      "source": [
        "from keras.models import Sequential\n",
        "from keras.layers import Dense, Dropout, Activation, Flatten\n",
        "from keras.layers import Conv2D, MaxPooling2D, ZeroPadding2D"
      ],
      "execution_count": 0,
      "outputs": []
    },
    {
      "cell_type": "code",
      "metadata": {
        "colab_type": "code",
        "id": "hslqrIp0iUse",
        "colab": {}
      },
      "source": [
        "model = Sequential()"
      ],
      "execution_count": 0,
      "outputs": []
    },
    {
      "cell_type": "code",
      "metadata": {
        "colab_type": "code",
        "id": "Hqe35hs2iUsi",
        "colab": {}
      },
      "source": [
        "#卷積層1"
      ],
      "execution_count": 0,
      "outputs": []
    },
    {
      "cell_type": "code",
      "metadata": {
        "colab_type": "code",
        "id": "ED7dqe1YiUsm",
        "colab": {}
      },
      "source": [
        "model.add(Conv2D(filters=32,kernel_size=(3,3),\n",
        "                 input_shape=(32, 32,3), \n",
        "                 activation='relu', \n",
        "                 padding='same'))"
      ],
      "execution_count": 0,
      "outputs": []
    },
    {
      "cell_type": "code",
      "metadata": {
        "colab_type": "code",
        "id": "n-GRKmPViUso",
        "colab": {}
      },
      "source": [
        "model.add(Dropout(rate=0.25))"
      ],
      "execution_count": 0,
      "outputs": []
    },
    {
      "cell_type": "code",
      "metadata": {
        "colab_type": "code",
        "id": "GlWnnD1uiUsw",
        "colab": {}
      },
      "source": [
        "model.add(MaxPooling2D(pool_size=(2, 2)))"
      ],
      "execution_count": 0,
      "outputs": []
    },
    {
      "cell_type": "code",
      "metadata": {
        "colab_type": "code",
        "id": "nawlkt55iUsy",
        "colab": {}
      },
      "source": [
        "#卷積層2與池化層2"
      ],
      "execution_count": 0,
      "outputs": []
    },
    {
      "cell_type": "code",
      "metadata": {
        "colab_type": "code",
        "id": "xxyETiKNiUs1",
        "colab": {}
      },
      "source": [
        "model.add(Conv2D(filters=64, kernel_size=(3, 3), \n",
        "                 activation='relu', padding='same'))"
      ],
      "execution_count": 0,
      "outputs": []
    },
    {
      "cell_type": "code",
      "metadata": {
        "colab_type": "code",
        "id": "RqcKWtqGiUs2",
        "colab": {}
      },
      "source": [
        "model.add(Dropout(0.25))"
      ],
      "execution_count": 0,
      "outputs": []
    },
    {
      "cell_type": "code",
      "metadata": {
        "colab_type": "code",
        "id": "BUOOzlqfiUs4",
        "colab": {}
      },
      "source": [
        "model.add(MaxPooling2D(pool_size=(2, 2)))"
      ],
      "execution_count": 0,
      "outputs": []
    },
    {
      "cell_type": "code",
      "metadata": {
        "colab_type": "code",
        "id": "LpkppB2siUs7",
        "colab": {}
      },
      "source": [
        "#建立神經網路(平坦層、隱藏層、輸出層)"
      ],
      "execution_count": 0,
      "outputs": []
    },
    {
      "cell_type": "code",
      "metadata": {
        "colab_type": "code",
        "id": "UQOfU54_iUs_",
        "colab": {}
      },
      "source": [
        "model.add(Flatten())\n",
        "model.add(Dropout(rate=0.25))"
      ],
      "execution_count": 0,
      "outputs": []
    },
    {
      "cell_type": "code",
      "metadata": {
        "colab_type": "code",
        "id": "_NV-8sq4iUtD",
        "colab": {}
      },
      "source": [
        "model.add(Dense(1024, activation='relu'))\n",
        "model.add(Dropout(rate=0.25))"
      ],
      "execution_count": 0,
      "outputs": []
    },
    {
      "cell_type": "code",
      "metadata": {
        "colab_type": "code",
        "id": "qVK77krOiUtF",
        "colab": {}
      },
      "source": [
        "model.add(Dense(10, activation='softmax'))"
      ],
      "execution_count": 0,
      "outputs": []
    },
    {
      "cell_type": "code",
      "metadata": {
        "colab_type": "code",
        "id": "ZxzRIjR0iUtH",
        "colab": {
          "base_uri": "https://localhost:8080/",
          "height": 521
        },
        "outputId": "403bdf60-033e-49f7-9aa5-ab2b1d7e8ed5"
      },
      "source": [
        "#檢查model 的STACK\n",
        "print(model.summary())"
      ],
      "execution_count": 48,
      "outputs": [
        {
          "output_type": "stream",
          "text": [
            "_________________________________________________________________\n",
            "Layer (type)                 Output Shape              Param #   \n",
            "=================================================================\n",
            "conv2d_3 (Conv2D)            (None, 32, 32, 32)        896       \n",
            "_________________________________________________________________\n",
            "dropout_5 (Dropout)          (None, 32, 32, 32)        0         \n",
            "_________________________________________________________________\n",
            "max_pooling2d_3 (MaxPooling2 (None, 16, 16, 32)        0         \n",
            "_________________________________________________________________\n",
            "conv2d_4 (Conv2D)            (None, 16, 16, 64)        18496     \n",
            "_________________________________________________________________\n",
            "dropout_6 (Dropout)          (None, 16, 16, 64)        0         \n",
            "_________________________________________________________________\n",
            "max_pooling2d_4 (MaxPooling2 (None, 8, 8, 64)          0         \n",
            "_________________________________________________________________\n",
            "flatten_2 (Flatten)          (None, 4096)              0         \n",
            "_________________________________________________________________\n",
            "dropout_7 (Dropout)          (None, 4096)              0         \n",
            "_________________________________________________________________\n",
            "dense_3 (Dense)              (None, 1024)              4195328   \n",
            "_________________________________________________________________\n",
            "dropout_8 (Dropout)          (None, 1024)              0         \n",
            "_________________________________________________________________\n",
            "dense_4 (Dense)              (None, 10)                10250     \n",
            "=================================================================\n",
            "Total params: 4,224,970\n",
            "Trainable params: 4,224,970\n",
            "Non-trainable params: 0\n",
            "_________________________________________________________________\n",
            "None\n"
          ],
          "name": "stdout"
        }
      ]
    },
    {
      "cell_type": "markdown",
      "metadata": {
        "colab_type": "text",
        "id": "QJCtpJM0iUtJ"
      },
      "source": [
        "# 載入之前訓練的模型"
      ]
    },
    {
      "cell_type": "code",
      "metadata": {
        "colab_type": "code",
        "id": "JU3A6NzQiUtK",
        "colab": {
          "base_uri": "https://localhost:8080/",
          "height": 34
        },
        "outputId": "e2e09b23-90fb-45a2-cfe8-3162a3432f62"
      },
      "source": [
        "try:\n",
        "    model.load_weights(\"SaveModel/cifarCnnModel.h5\")\n",
        "    print(\"載入模型成功!繼續訓練模型\")\n",
        "except :    \n",
        "    print(\"載入模型失敗!開始訓練一個新模型\")"
      ],
      "execution_count": 49,
      "outputs": [
        {
          "output_type": "stream",
          "text": [
            "載入模型失敗!開始訓練一個新模型\n"
          ],
          "name": "stdout"
        }
      ]
    },
    {
      "cell_type": "markdown",
      "metadata": {
        "colab_type": "text",
        "id": "qBbCuziziUtM"
      },
      "source": [
        "# 訓練模型"
      ]
    },
    {
      "cell_type": "code",
      "metadata": {
        "colab_type": "code",
        "id": "Q6BiBcseiUtP",
        "colab": {
          "base_uri": "https://localhost:8080/",
          "height": 437
        },
        "outputId": "18d86e49-5944-42d5-cd69-a38e07f75f83"
      },
      "source": [
        "model.compile(loss='categorical_crossentropy', optimizer='sgd', metrics=['accuracy'])\n",
        "\n",
        "'''\n",
        "作業:\n",
        "請分別選用 \"MSE\", \"binary _crossentropy\"\n",
        "查看Train/test accurancy and loss rate\n",
        "'''\n",
        "train_history=model.fit(x_img_train_normalize, y_label_train_OneHot,\n",
        "                        validation_split=0.25,\n",
        "                        epochs=12, batch_size=128, verbose=1)         \n"
      ],
      "execution_count": 50,
      "outputs": [
        {
          "output_type": "stream",
          "text": [
            "Train on 37500 samples, validate on 12500 samples\n",
            "Epoch 1/12\n",
            "37500/37500 [==============================] - 118s 3ms/step - loss: 2.1636 - acc: 0.1981 - val_loss: 2.0466 - val_acc: 0.2974\n",
            "Epoch 2/12\n",
            "37500/37500 [==============================] - 118s 3ms/step - loss: 1.9537 - acc: 0.2967 - val_loss: 1.9292 - val_acc: 0.3490\n",
            "Epoch 3/12\n",
            "37500/37500 [==============================] - 118s 3ms/step - loss: 1.8322 - acc: 0.3457 - val_loss: 1.8351 - val_acc: 0.3828\n",
            "Epoch 4/12\n",
            "37500/37500 [==============================] - 118s 3ms/step - loss: 1.7303 - acc: 0.3810 - val_loss: 1.7431 - val_acc: 0.4176\n",
            "Epoch 5/12\n",
            "37500/37500 [==============================] - 118s 3ms/step - loss: 1.6505 - acc: 0.4102 - val_loss: 1.6760 - val_acc: 0.4388\n",
            "Epoch 6/12\n",
            "37500/37500 [==============================] - 118s 3ms/step - loss: 1.5869 - acc: 0.4302 - val_loss: 1.6437 - val_acc: 0.4531\n",
            "Epoch 7/12\n",
            "37500/37500 [==============================] - 118s 3ms/step - loss: 1.5321 - acc: 0.4527 - val_loss: 1.5806 - val_acc: 0.4757\n",
            "Epoch 8/12\n",
            "37500/37500 [==============================] - 118s 3ms/step - loss: 1.4856 - acc: 0.4679 - val_loss: 1.5304 - val_acc: 0.4867\n",
            "Epoch 9/12\n",
            "37500/37500 [==============================] - 118s 3ms/step - loss: 1.4466 - acc: 0.4808 - val_loss: 1.4734 - val_acc: 0.5118\n",
            "Epoch 10/12\n",
            "37500/37500 [==============================] - 118s 3ms/step - loss: 1.4111 - acc: 0.4937 - val_loss: 1.4450 - val_acc: 0.5219\n",
            "Epoch 11/12\n",
            "37500/37500 [==============================] - 118s 3ms/step - loss: 1.3823 - acc: 0.5057 - val_loss: 1.4324 - val_acc: 0.5379\n",
            "Epoch 12/12\n",
            "37500/37500 [==============================] - 118s 3ms/step - loss: 1.3507 - acc: 0.5211 - val_loss: 1.4044 - val_acc: 0.5406\n"
          ],
          "name": "stdout"
        }
      ]
    },
    {
      "cell_type": "code",
      "metadata": {
        "colab_type": "code",
        "id": "4-GdDgmQiUtS",
        "colab": {}
      },
      "source": [
        "import matplotlib.pyplot as plt\n",
        "%matplotlib inline\n",
        "\n",
        "#定義一個繪圖函數\n",
        "def show_train_history(train_acc,test_acc):\n",
        "    plt.plot(train_history.history[train_acc])\n",
        "    plt.plot(train_history.history[test_acc])\n",
        "    plt.title('Train History')\n",
        "    plt.ylabel('Accuracy')\n",
        "    plt.xlabel('Epoch')\n",
        "    plt.legend(['train_acc', 'val_acc'], loc='upper left')\n",
        "    plt.show()"
      ],
      "execution_count": 0,
      "outputs": []
    },
    {
      "cell_type": "code",
      "metadata": {
        "id": "qTGcvM7jh8pj",
        "colab_type": "code",
        "colab": {
          "base_uri": "https://localhost:8080/",
          "height": 295
        },
        "outputId": "4ab89e47-938f-4fc9-ffd7-de78c15cf5f6"
      },
      "source": [
        "show_train_history('acc','val_acc')"
      ],
      "execution_count": 52,
      "outputs": [
        {
          "output_type": "display_data",
          "data": {
            "image/png": "[encoded data removed]",
            "text/plain": [
              "<Figure size 432x288 with 1 Axes>"
            ]
          },
          "metadata": {
            "tags": []
          }
        }
      ]
    },
    {
      "cell_type": "code",
      "metadata": {
        "id": "2v-vrNHcfLIr",
        "colab_type": "code",
        "colab": {
          "base_uri": "https://localhost:8080/",
          "height": 437
        },
        "outputId": "694ae7d9-3a5b-46d0-8a6a-4d122f0962d1"
      },
      "source": [
        "model.compile(loss='mean_squared_error', optimizer='sgd', metrics=['accuracy'])\n",
        "\n",
        "'''\n",
        "作業:\n",
        "請分別選用 \"MSE\", \"binary _crossentropy\"\n",
        "查看Train/test accurancy and loss rate\n",
        "'''\n",
        "train_history=model.fit(x_img_train_normalize, y_label_train_OneHot,\n",
        "                        validation_split=0.25,\n",
        "                        epochs=12, batch_size=128, verbose=1)         \n"
      ],
      "execution_count": 53,
      "outputs": [
        {
          "output_type": "stream",
          "text": [
            "Train on 37500 samples, validate on 12500 samples\n",
            "Epoch 1/12\n",
            "37500/37500 [==============================] - 118s 3ms/step - loss: 0.0606 - acc: 0.5319 - val_loss: 0.0628 - val_acc: 0.5504\n",
            "Epoch 2/12\n",
            "37500/37500 [==============================] - 117s 3ms/step - loss: 0.0604 - acc: 0.5333 - val_loss: 0.0627 - val_acc: 0.5503\n",
            "Epoch 3/12\n",
            "37500/37500 [==============================] - 118s 3ms/step - loss: 0.0604 - acc: 0.5325 - val_loss: 0.0626 - val_acc: 0.5514\n",
            "Epoch 4/12\n",
            "37500/37500 [==============================] - 117s 3ms/step - loss: 0.0602 - acc: 0.5369 - val_loss: 0.0626 - val_acc: 0.5505\n",
            "Epoch 5/12\n",
            "37500/37500 [==============================] - 118s 3ms/step - loss: 0.0601 - acc: 0.5360 - val_loss: 0.0624 - val_acc: 0.5531\n",
            "Epoch 6/12\n",
            "37500/37500 [==============================] - 118s 3ms/step - loss: 0.0602 - acc: 0.5357 - val_loss: 0.0623 - val_acc: 0.5548\n",
            "Epoch 7/12\n",
            "37500/37500 [==============================] - 118s 3ms/step - loss: 0.0602 - acc: 0.5351 - val_loss: 0.0624 - val_acc: 0.5521\n",
            "Epoch 8/12\n",
            "37500/37500 [==============================] - 118s 3ms/step - loss: 0.0600 - acc: 0.5363 - val_loss: 0.0623 - val_acc: 0.5534\n",
            "Epoch 9/12\n",
            "37500/37500 [==============================] - 118s 3ms/step - loss: 0.0599 - acc: 0.5364 - val_loss: 0.0622 - val_acc: 0.5533\n",
            "Epoch 10/12\n",
            "37500/37500 [==============================] - 118s 3ms/step - loss: 0.0600 - acc: 0.5339 - val_loss: 0.0622 - val_acc: 0.5541\n",
            "Epoch 11/12\n",
            "37500/37500 [==============================] - 118s 3ms/step - loss: 0.0598 - acc: 0.5373 - val_loss: 0.0621 - val_acc: 0.5570\n",
            "Epoch 12/12\n",
            "37500/37500 [==============================] - 118s 3ms/step - loss: 0.0597 - acc: 0.5395 - val_loss: 0.0621 - val_acc: 0.5549\n"
          ],
          "name": "stdout"
        }
      ]
    },
    {
      "cell_type": "code",
      "metadata": {
        "id": "5vduJ3t5iI2U",
        "colab_type": "code",
        "colab": {
          "base_uri": "https://localhost:8080/",
          "height": 295
        },
        "outputId": "1320f386-bcb9-4e19-ee07-b75d594da587"
      },
      "source": [
        "show_train_history('acc','val_acc')"
      ],
      "execution_count": 54,
      "outputs": [
        {
          "output_type": "display_data",
          "data": {
            "image/png": "[encoded data removed]",
            "text/plain": [
              "<Figure size 432x288 with 1 Axes>"
            ]
          },
          "metadata": {
            "tags": []
          }
        }
      ]
    },
    {
      "cell_type": "code",
      "metadata": {
        "id": "UFBx2_8mffpU",
        "colab_type": "code",
        "colab": {
          "base_uri": "https://localhost:8080/",
          "height": 437
        },
        "outputId": "3816bdc9-b867-4bd6-8f64-2439703f95bb"
      },
      "source": [
        "\n",
        "model.compile(loss='binary_crossentropy', optimizer='sgd', metrics=['accuracy'])\n",
        "\n",
        "'''\n",
        "作業:\n",
        "請分別選用 \"MSE\", \"binary _crossentropy\"\n",
        "查看Train/test accurancy and loss rate\n",
        "'''\n",
        "train_history=model.fit(x_img_train_normalize, y_label_train_OneHot,\n",
        "                        validation_split=0.25,\n",
        "                        epochs=12, batch_size=128, verbose=1)         "
      ],
      "execution_count": 55,
      "outputs": [
        {
          "output_type": "stream",
          "text": [
            "Train on 37500 samples, validate on 12500 samples\n",
            "Epoch 1/12\n",
            "37500/37500 [==============================] - 118s 3ms/step - loss: 0.2025 - acc: 0.9204 - val_loss: 0.2114 - val_acc: 0.9160\n",
            "Epoch 2/12\n",
            "37500/37500 [==============================] - 117s 3ms/step - loss: 0.2017 - acc: 0.9208 - val_loss: 0.2113 - val_acc: 0.9159\n",
            "Epoch 3/12\n",
            "37500/37500 [==============================] - 117s 3ms/step - loss: 0.2009 - acc: 0.9213 - val_loss: 0.2103 - val_acc: 0.9164\n",
            "Epoch 4/12\n",
            "37500/37500 [==============================] - 117s 3ms/step - loss: 0.2019 - acc: 0.9204 - val_loss: 0.2102 - val_acc: 0.9162\n",
            "Epoch 5/12\n",
            "37500/37500 [==============================] - 117s 3ms/step - loss: 0.2004 - acc: 0.9212 - val_loss: 0.2097 - val_acc: 0.9165\n",
            "Epoch 6/12\n",
            "37500/37500 [==============================] - 117s 3ms/step - loss: 0.2000 - acc: 0.9217 - val_loss: 0.2095 - val_acc: 0.9167\n",
            "Epoch 7/12\n",
            "37500/37500 [==============================] - 117s 3ms/step - loss: 0.1993 - acc: 0.9216 - val_loss: 0.2088 - val_acc: 0.9169\n",
            "Epoch 8/12\n",
            "37500/37500 [==============================] - 117s 3ms/step - loss: 0.1991 - acc: 0.9220 - val_loss: 0.2086 - val_acc: 0.9172\n",
            "Epoch 9/12\n",
            "37500/37500 [==============================] - 117s 3ms/step - loss: 0.1986 - acc: 0.9222 - val_loss: 0.2078 - val_acc: 0.9174\n",
            "Epoch 10/12\n",
            "37500/37500 [==============================] - 117s 3ms/step - loss: 0.1978 - acc: 0.9225 - val_loss: 0.2075 - val_acc: 0.9171\n",
            "Epoch 11/12\n",
            "37500/37500 [==============================] - 117s 3ms/step - loss: 0.1972 - acc: 0.9227 - val_loss: 0.2070 - val_acc: 0.9180\n",
            "Epoch 12/12\n",
            "37500/37500 [==============================] - 117s 3ms/step - loss: 0.1976 - acc: 0.9224 - val_loss: 0.2067 - val_acc: 0.9179\n"
          ],
          "name": "stdout"
        }
      ]
    },
    {
      "cell_type": "code",
      "metadata": {
        "id": "cYrkFbZwh_89",
        "colab_type": "code",
        "colab": {
          "base_uri": "https://localhost:8080/",
          "height": 295
        },
        "outputId": "a61c7ce0-c555-475d-9a72-5209f7e0ac16"
      },
      "source": [
        "show_train_history('acc','val_acc')"
      ],
      "execution_count": 56,
      "outputs": [
        {
          "output_type": "display_data",
          "data": {
            "image/png": "[encoded data removed]",
            "text/plain": [
              "<Figure size 432x288 with 1 Axes>"
            ]
          },
          "metadata": {
            "tags": []
          }
        }
      ]
    },
    {
      "cell_type": "code",
      "metadata": {
        "id": "7YzVXlXefopv",
        "colab_type": "code",
        "colab": {}
      },
      "source": [
        ""
      ],
      "execution_count": 0,
      "outputs": []
    }
  ]
}