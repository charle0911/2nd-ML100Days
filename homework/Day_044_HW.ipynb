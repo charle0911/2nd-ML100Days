{
  "nbformat": 4,
  "nbformat_minor": 0,
  "metadata": {
    "colab": {
      "name": "Day_044_HW.ipynb",
      "version": "0.3.2",
      "provenance": [],
      "include_colab_link": true
    },
    "language_info": {
      "codemirror_mode": {
        "name": "ipython",
        "version": 3
      },
      "file_extension": ".py",
      "mimetype": "text/x-python",
      "name": "python",
      "nbconvert_exporter": "python",
      "pygments_lexer": "ipython3",
      "version": "3.6.2"
    },
    "kernelspec": {
      "display_name": "Python 3",
      "language": "python",
      "name": "python3"
    }
  },
  "cells": [
    {
      "cell_type": "markdown",
      "metadata": {
        "id": "view-in-github",
        "colab_type": "text"
      },
      "source": [
        "<a href=\"https://colab.research.google.com/github/charle0911/2nd-ML100Days/blob/master/homework/Day_044_HW.ipynb\" target=\"_parent\"><img src=\"https://colab.research.google.com/assets/colab-badge.svg\" alt=\"Open In Colab\"/></a>"
      ]
    },
    {
      "cell_type": "markdown",
      "metadata": {
        "id": "VsNOrv-YRF02",
        "colab_type": "text"
      },
      "source": [
        "## [作業重點]\n",
        "確保你了解隨機森林模型中每個超參數的意義，並觀察調整超參數對結果的影響"
      ]
    },
    {
      "cell_type": "markdown",
      "metadata": {
        "id": "E1OmGnUcRF06",
        "colab_type": "text"
      },
      "source": [
        "## 作業\n",
        "\n",
        "1. 試著調整 RandomForestClassifier(...) 中的參數，並觀察是否會改變結果？\n",
        "2. 改用其他資料集 (boston, wine)，並與回歸模型與決策樹的結果進行比較"
      ]
    },
    {
      "cell_type": "code",
      "metadata": {
        "id": "26c8Cc0ZRF09",
        "colab_type": "code",
        "colab": {}
      },
      "source": [
        "from sklearn import datasets, metrics\n",
        "from sklearn.ensemble import RandomForestClassifier, RandomForestRegressor\n",
        "from sklearn.tree import DecisionTreeRegressor\n",
        "from sklearn.model_selection import train_test_split"
      ],
      "execution_count": 0,
      "outputs": []
    },
    {
      "cell_type": "code",
      "metadata": {
        "id": "mgyHLc9kRYlR",
        "colab_type": "code",
        "colab": {}
      },
      "source": [
        "# 讀取鳶尾花資料集\n",
        "iris = datasets.load_iris()\n",
        "\n",
        "# 切分訓練集/測試集\n",
        "x_train, x_test, y_train, y_test = train_test_split(iris.data, iris.target, test_size=0.25, random_state=4)\n",
        "\n",
        "# 建立模型 (使用 20 顆樹，每棵樹的最大深度為 4)\n",
        "clf = RandomForestClassifier(n_estimators=20, max_depth=4)\n",
        "clf2 = RandomForestClassifier(n_estimators=100, max_depth=5)\n",
        "\n",
        "# 訓練模型\n",
        "clf.fit(x_train, y_train)\n",
        "clf2.fit(x_train, y_train)\n",
        "# 預測測試集\n",
        "y_pred = clf.predict(x_test)\n",
        "y_pred2 = clf2.predict(x_test)\n"
      ],
      "execution_count": 0,
      "outputs": []
    },
    {
      "cell_type": "code",
      "metadata": {
        "id": "5lMkIvEzRqWF",
        "colab_type": "code",
        "colab": {
          "base_uri": "https://localhost:8080/",
          "height": 101
        },
        "outputId": "b565e4b4-4798-43e8-9d9e-20a635c3446f"
      },
      "source": [
        "acc = metrics.accuracy_score(y_test, y_pred)\n",
        "acc2 = metrics.accuracy_score(y_test, y_pred2)\n",
        "print(\"Accuracy: \", acc)\n",
        "print(\"Accuracy2: \", acc2)\n",
        "print(iris.feature_names)\n",
        "print(\"Feature importance: \", clf.feature_importances_)\n",
        "print(\"Feature2 importance: \", clf2.feature_importances_)"
      ],
      "execution_count": 19,
      "outputs": [
        {
          "output_type": "stream",
          "text": [
            "Accuracy:  0.9736842105263158\n",
            "Accuracy2:  0.9736842105263158\n",
            "['sepal length (cm)', 'sepal width (cm)', 'petal length (cm)', 'petal width (cm)']\n",
            "Feature importance:  [0.10090637 0.03711164 0.44278911 0.41919288]\n",
            "Feature2 importance:  [0.09746529 0.03062092 0.422285   0.44962879]\n"
          ],
          "name": "stdout"
        }
      ]
    },
    {
      "cell_type": "code",
      "metadata": {
        "id": "T6QX_qPwRuDf",
        "colab_type": "code",
        "colab": {}
      },
      "source": [
        "# 讀取鳶尾花資料集\n",
        "boston = datasets.load_boston()\n",
        "\n",
        "# 切分訓練集/測試集\n",
        "x_train, x_test, y_train, y_test = train_test_split(boston.data, boston.target, test_size=0.25, random_state=4)\n",
        "\n",
        "# 建立模型 (使用 20 顆樹，每棵樹的最大深度為 4)\n",
        "clf = RandomForestRegressor(n_estimators=20, max_depth=4)\n",
        "# 建立模型\n",
        "clfB2 = DecisionTreeRegressor(min_samples_split=2,min_samples_leaf=1,max_depth=5)\n",
        "\n",
        "# 訓練模型\n",
        "clf.fit(x_train, y_train)\n",
        "clfB2.fit(x_train, y_train)\n",
        "# 預測測試集\n",
        "y_pred = clf.predict(x_test)\n",
        "y_pred2 = clfB2.predict(x_test)"
      ],
      "execution_count": 0,
      "outputs": []
    },
    {
      "cell_type": "code",
      "metadata": {
        "id": "tgL0QP-dSfqj",
        "colab_type": "code",
        "colab": {
          "base_uri": "https://localhost:8080/",
          "height": 185
        },
        "outputId": "0182d33c-21d4-4e9f-ff63-fb1c197abef3"
      },
      "source": [
        "# 預測值與實際值的差距，使用 MSE\n",
        "print(\"Mean squared error: %.2f\"\n",
        "      % metrics.mean_squared_error(y_test, y_pred))\n",
        "\n",
        "# 預測值與實際值的差距，使用 MSE\n",
        "print(\"Mean squared error: %.2f\"\n",
        "      % metrics.mean_squared_error(y_test, y_pred2))\n",
        "\n",
        "print(iris.feature_names)\n",
        "print(\"Feature importance: \", clf.feature_importances_)\n",
        "print(\"Feature importance: \", clfB2.feature_importances_)\n"
      ],
      "execution_count": 26,
      "outputs": [
        {
          "output_type": "stream",
          "text": [
            "Mean squared error: 16.82\n",
            "Mean squared error: 25.13\n",
            "['sepal length (cm)', 'sepal width (cm)', 'petal length (cm)', 'petal width (cm)']\n",
            "Feature importance:  [0.05873955 0.         0.00537588 0.00223025 0.0095506  0.45206038\n",
            " 0.00392631 0.04855343 0.00147631 0.0060499  0.0190272  0.00399602\n",
            " 0.38901417]\n",
            "Feature importance:  [6.45608437e-02 0.00000000e+00 2.55280169e-03 0.00000000e+00\n",
            " 2.17294219e-02 5.86566007e-01 1.44750958e-04 6.68363699e-02\n",
            " 0.00000000e+00 0.00000000e+00 2.04090283e-02 3.10621002e-03\n",
            " 2.34094567e-01]\n"
          ],
          "name": "stdout"
        }
      ]
    },
    {
      "cell_type": "code",
      "metadata": {
        "id": "oVS90Wa2Td65",
        "colab_type": "code",
        "colab": {}
      },
      "source": [
        ""
      ],
      "execution_count": 0,
      "outputs": []
    }
  ]
}