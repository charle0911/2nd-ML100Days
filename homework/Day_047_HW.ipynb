{
  "nbformat": 4,
  "nbformat_minor": 0,
  "metadata": {
    "colab": {
      "name": "Day_047_HW.ipynb",
      "version": "0.3.2",
      "provenance": [],
      "collapsed_sections": [],
      "include_colab_link": true
    },
    "language_info": {
      "codemirror_mode": {
        "name": "ipython",
        "version": 3
      },
      "file_extension": ".py",
      "mimetype": "text/x-python",
      "name": "python",
      "nbconvert_exporter": "python",
      "pygments_lexer": "ipython3",
      "version": "3.6.2"
    },
    "kernelspec": {
      "display_name": "Python 3",
      "language": "python",
      "name": "python3"
    }
  },
  "cells": [
    {
      "cell_type": "markdown",
      "metadata": {
        "id": "view-in-github",
        "colab_type": "text"
      },
      "source": [
        "<a href=\"https://colab.research.google.com/github/charle0911/2nd-ML100Days/blob/master/homework/Day_047_HW.ipynb\" target=\"_parent\"><img src=\"https://colab.research.google.com/assets/colab-badge.svg\" alt=\"Open In Colab\"/></a>"
      ]
    },
    {
      "cell_type": "markdown",
      "metadata": {
        "id": "OWz3AsI7yOSg",
        "colab_type": "text"
      },
      "source": [
        "## [作業重點]\n",
        "了解如何使用 Sklearn 中的 hyper-parameter search 找出最佳的超參數"
      ]
    },
    {
      "cell_type": "markdown",
      "metadata": {
        "id": "ODF4ORbCyOSi",
        "colab_type": "text"
      },
      "source": [
        "### 作業\n",
        "請使用不同的資料集，並使用 hyper-parameter search 的方式，看能不能找出最佳的超參數組合"
      ]
    },
    {
      "cell_type": "code",
      "metadata": {
        "id": "F_kYEUBAyOSk",
        "colab_type": "code",
        "colab": {}
      },
      "source": [
        "from sklearn import datasets, metrics\n",
        "from sklearn.model_selection import train_test_split, KFold, GridSearchCV\n",
        "from sklearn.ensemble import GradientBoostingRegressor"
      ],
      "execution_count": 0,
      "outputs": []
    },
    {
      "cell_type": "code",
      "metadata": {
        "id": "YciZ8WOL6N00",
        "colab_type": "code",
        "colab": {}
      },
      "source": [
        "# 讀取資料集\n",
        "digits = datasets.load_boston()\n",
        "# 切分訓練集/測試集\n",
        "x_train, x_test, y_train, y_test = train_test_split(digits.data, digits.target, test_size=0.25, random_state=42)\n",
        "\n",
        "# 建立模型\n",
        "reg = GradientBoostingRegressor(random_state=7)\n"
      ],
      "execution_count": 0,
      "outputs": []
    },
    {
      "cell_type": "code",
      "metadata": {
        "id": "yqkOLAF16Id-",
        "colab_type": "code",
        "colab": {
          "base_uri": "https://localhost:8080/",
          "height": 34
        },
        "outputId": "7973ce3f-ae73-4118-918b-7ee70a01aba5"
      },
      "source": [
        "# 先看看使用預設參數得到的結果，約為 0.14 的 MSE\n",
        "reg.fit(x_train, y_train)\n",
        "y_pred = reg.predict(x_test)\n",
        "print(metrics.mean_squared_error(y_test, y_pred))"
      ],
      "execution_count": 3,
      "outputs": [
        {
          "output_type": "stream",
          "text": [
            "8.913775994322064\n"
          ],
          "name": "stdout"
        }
      ]
    },
    {
      "cell_type": "code",
      "metadata": {
        "id": "7GF9GdtA6WDH",
        "colab_type": "code",
        "colab": {
          "base_uri": "https://localhost:8080/",
          "height": 154
        },
        "outputId": "c2d769af-7eae-41ea-b009-faf97679442f"
      },
      "source": [
        "# 設定要訓練的超參數組合\n",
        "n_estimators = [50, 100, 150]\n",
        "max_depth = [1, 3, 5]\n",
        "param_grid = dict(n_estimators=n_estimators, max_depth=max_depth)\n",
        "\n",
        "## 建立搜尋物件，放入模型及參數組合字典 (n_jobs=-1 會使用全部 cpu 平行運算)\n",
        "grid_search = GridSearchCV(reg, param_grid, scoring=\"neg_mean_squared_error\", n_jobs=-1, verbose=1)\n",
        "\n",
        "# 開始搜尋最佳參數\n",
        "grid_result = grid_search.fit(x_train, y_train)\n",
        "\n",
        "# 預設會跑 3-fold cross-validadtion，總共 9 種參數組合，總共要 train 27 次模型"
      ],
      "execution_count": 4,
      "outputs": [
        {
          "output_type": "stream",
          "text": [
            "Fitting 3 folds for each of 9 candidates, totalling 27 fits\n"
          ],
          "name": "stdout"
        },
        {
          "output_type": "stream",
          "text": [
            "/usr/local/lib/python3.6/dist-packages/sklearn/model_selection/_split.py:1978: FutureWarning: The default value of cv will change from 3 to 5 in version 0.22. Specify it explicitly to silence this warning.\n",
            "  warnings.warn(CV_WARNING, FutureWarning)\n",
            "[Parallel(n_jobs=-1)]: Using backend LokyBackend with 2 concurrent workers.\n",
            "[Parallel(n_jobs=-1)]: Done  27 out of  27 | elapsed:    1.9s finished\n",
            "/usr/local/lib/python3.6/dist-packages/sklearn/model_selection/_search.py:813: DeprecationWarning: The default of the `iid` parameter will change from True to False in version 0.22 and will be removed in 0.24. This will change numeric results when test-set sizes are unequal.\n",
            "  DeprecationWarning)\n"
          ],
          "name": "stderr"
        }
      ]
    },
    {
      "cell_type": "code",
      "metadata": {
        "id": "Y_o4RfCH6Ysu",
        "colab_type": "code",
        "colab": {
          "base_uri": "https://localhost:8080/",
          "height": 34
        },
        "outputId": "6583d3f7-5cd0-40f3-ef4b-5c46c819f6ef"
      },
      "source": [
        "# 印出最佳結果與最佳參數\n",
        "print(\"Best Accuracy: %f using %s\" % (grid_result.best_score_, grid_result.best_params_))"
      ],
      "execution_count": 5,
      "outputs": [
        {
          "output_type": "stream",
          "text": [
            "Best Accuracy: -13.217320 using {'max_depth': 3, 'n_estimators': 150}\n"
          ],
          "name": "stdout"
        }
      ]
    },
    {
      "cell_type": "code",
      "metadata": {
        "id": "7MRBMRJJ6aLW",
        "colab_type": "code",
        "colab": {
          "base_uri": "https://localhost:8080/",
          "height": 34
        },
        "outputId": "e8da9fd1-4e1d-40f5-82c1-77985410766c"
      },
      "source": [
        "grid_result.best_params_"
      ],
      "execution_count": 6,
      "outputs": [
        {
          "output_type": "execute_result",
          "data": {
            "text/plain": [
              "{'max_depth': 3, 'n_estimators': 150}"
            ]
          },
          "metadata": {
            "tags": []
          },
          "execution_count": 6
        }
      ]
    },
    {
      "cell_type": "code",
      "metadata": {
        "id": "Q_aBmhov6bYV",
        "colab_type": "code",
        "colab": {}
      },
      "source": [
        "# 使用最佳參數重新建立模型\n",
        "reg_bestparam = GradientBoostingRegressor(max_depth=grid_result.best_params_['max_depth'],\n",
        "                                           n_estimators=grid_result.best_params_['n_estimators'])\n",
        "\n",
        "# 訓練模型\n",
        "reg_bestparam.fit(x_train, y_train)\n",
        "\n",
        "# 預測測試集\n",
        "y_pred = reg_bestparam.predict(x_test)"
      ],
      "execution_count": 0,
      "outputs": []
    },
    {
      "cell_type": "code",
      "metadata": {
        "id": "EfsJr4ld6c0X",
        "colab_type": "code",
        "colab": {
          "base_uri": "https://localhost:8080/",
          "height": 34
        },
        "outputId": "c3fd2eba-c879-4e42-ab25-22d2584b17b7"
      },
      "source": [
        "# 調整參數後約可降至 0.05 的 MSE\n",
        "print(metrics.mean_squared_error(y_test, y_pred))"
      ],
      "execution_count": 8,
      "outputs": [
        {
          "output_type": "stream",
          "text": [
            "8.574369975204611\n"
          ],
          "name": "stdout"
        }
      ]
    },
    {
      "cell_type": "code",
      "metadata": {
        "id": "O-so3d2C6jx_",
        "colab_type": "code",
        "colab": {}
      },
      "source": [
        ""
      ],
      "execution_count": 0,
      "outputs": []
    }
  ]
}