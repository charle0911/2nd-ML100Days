{
  "nbformat": 4,
  "nbformat_minor": 0,
  "metadata": {
    "colab": {
      "name": "Day_048_HW.ipynb",
      "version": "0.3.2",
      "provenance": [],
      "include_colab_link": true
    },
    "kernelspec": {
      "name": "python3",
      "display_name": "Python 3"
    }
  },
  "cells": [
    {
      "cell_type": "markdown",
      "metadata": {
        "id": "view-in-github",
        "colab_type": "text"
      },
      "source": [
        "<a href=\"https://colab.research.google.com/github/charle0911/2nd-ML100Days/blob/master/homoework/Day_048_HW.ipynb\" target=\"_parent\"><img src=\"https://colab.research.google.com/assets/colab-badge.svg\" alt=\"Open In Colab\"/></a>"
      ]
    },
    {
      "cell_type": "code",
      "metadata": {
        "id": "WFhqF4PC-Ah_",
        "colab_type": "code",
        "colab": {}
      },
      "source": [
        "import os\n",
        "import numpy as np\n",
        "import pandas as pd\n",
        "from datetime import date\n",
        "from sklearn import metrics\n",
        "from sklearn.model_selection import KFold, train_test_split, StratifiedKFold, cross_val_score, GridSearchCV\n",
        "from sklearn.ensemble import GradientBoostingClassifier"
      ],
      "execution_count": 0,
      "outputs": []
    },
    {
      "cell_type": "code",
      "metadata": {
        "id": "3md8dKzQ88no",
        "colab_type": "code",
        "colab": {
          "base_uri": "https://localhost:8080/",
          "height": 121
        },
        "outputId": "b7fc7c78-09b3-45ab-bbc1-72042fec2827"
      },
      "source": [
        "from google.colab import drive\n",
        "drive.mount('/content/drive')"
      ],
      "execution_count": 2,
      "outputs": [
        {
          "output_type": "stream",
          "text": [
            "Go to this URL in a browser: https://accounts.google.com/o/oauth2/auth?client_id=947318989803-6bn6qk8qdgf4n4g3pfee6491hc0brc4i.apps.googleusercontent.com&redirect_uri=urn%3Aietf%3Awg%3Aoauth%3A2.0%3Aoob&scope=email%20https%3A%2F%2Fwww.googleapis.com%2Fauth%2Fdocs.test%20https%3A%2F%2Fwww.googleapis.com%2Fauth%2Fdrive%20https%3A%2F%2Fwww.googleapis.com%2Fauth%2Fdrive.photos.readonly%20https%3A%2F%2Fwww.googleapis.com%2Fauth%2Fpeopleapi.readonly&response_type=code\n",
            "\n",
            "Enter your authorization code:\n",
            "··········\n",
            "Mounted at /content/drive\n"
          ],
          "name": "stdout"
        }
      ]
    },
    {
      "cell_type": "code",
      "metadata": {
        "id": "T8kR_oJo-kPu",
        "colab_type": "code",
        "colab": {
          "base_uri": "https://localhost:8080/",
          "height": 266
        },
        "outputId": "4729141a-14b3-400d-942a-d28fc0ce7c1e"
      },
      "source": [
        "path = 'drive/My Drive/data-science-london-scikit-learn'\n",
        "dfoff = pd.read_csv(os.path.join(path,'train.csv'), header=None)\n",
        "dftest = pd.read_csv(os.path.join(path,'test.csv'), header=None)\n",
        "dfY = pd.read_csv(os.path.join(path,'trainLabels.csv'), header=None)\n",
        "\n",
        "print(dfoff.shape)\n",
        "print(dftest.shape)\n",
        "print(dfY.shape)\n",
        "dfoff.head(5)"
      ],
      "execution_count": 16,
      "outputs": [
        {
          "output_type": "stream",
          "text": [
            "(1000, 40)\n",
            "(9000, 40)\n",
            "(1000, 1)\n"
          ],
          "name": "stdout"
        },
        {
          "output_type": "execute_result",
          "data": {
            "text/html": [
              "<div>\n",
              "<style scoped>\n",
              "    .dataframe tbody tr th:only-of-type {\n",
              "        vertical-align: middle;\n",
              "    }\n",
              "\n",
              "    .dataframe tbody tr th {\n",
              "        vertical-align: top;\n",
              "    }\n",
              "\n",
              "    .dataframe thead th {\n",
              "        text-align: right;\n",
              "    }\n",
              "</style>\n",
              "<table border=\"1\" class=\"dataframe\">\n",
              "  <thead>\n",
              "    <tr style=\"text-align: right;\">\n",
              "      <th></th>\n",
              "      <th>0</th>\n",
              "      <th>1</th>\n",
              "      <th>2</th>\n",
              "      <th>3</th>\n",
              "      <th>4</th>\n",
              "      <th>5</th>\n",
              "      <th>6</th>\n",
              "      <th>7</th>\n",
              "      <th>8</th>\n",
              "      <th>9</th>\n",
              "      <th>10</th>\n",
              "      <th>11</th>\n",
              "      <th>12</th>\n",
              "      <th>13</th>\n",
              "      <th>14</th>\n",
              "      <th>15</th>\n",
              "      <th>16</th>\n",
              "      <th>17</th>\n",
              "      <th>18</th>\n",
              "      <th>19</th>\n",
              "      <th>20</th>\n",
              "      <th>21</th>\n",
              "      <th>22</th>\n",
              "      <th>23</th>\n",
              "      <th>24</th>\n",
              "      <th>25</th>\n",
              "      <th>26</th>\n",
              "      <th>27</th>\n",
              "      <th>28</th>\n",
              "      <th>29</th>\n",
              "      <th>30</th>\n",
              "      <th>31</th>\n",
              "      <th>32</th>\n",
              "      <th>33</th>\n",
              "      <th>34</th>\n",
              "      <th>35</th>\n",
              "      <th>36</th>\n",
              "      <th>37</th>\n",
              "      <th>38</th>\n",
              "      <th>39</th>\n",
              "    </tr>\n",
              "  </thead>\n",
              "  <tbody>\n",
              "    <tr>\n",
              "      <th>0</th>\n",
              "      <td>0.299403</td>\n",
              "      <td>-1.226624</td>\n",
              "      <td>1.498425</td>\n",
              "      <td>-1.176150</td>\n",
              "      <td>5.289853</td>\n",
              "      <td>0.208297</td>\n",
              "      <td>2.404498</td>\n",
              "      <td>1.594506</td>\n",
              "      <td>-0.051608</td>\n",
              "      <td>0.663234</td>\n",
              "      <td>-1.408370</td>\n",
              "      <td>1.114744</td>\n",
              "      <td>0.910415</td>\n",
              "      <td>2.218110</td>\n",
              "      <td>4.305643</td>\n",
              "      <td>0.088924</td>\n",
              "      <td>0.169149</td>\n",
              "      <td>0.413448</td>\n",
              "      <td>1.513862</td>\n",
              "      <td>2.662967</td>\n",
              "      <td>-1.072765</td>\n",
              "      <td>0.149111</td>\n",
              "      <td>0.559579</td>\n",
              "      <td>4.378885</td>\n",
              "      <td>-0.463603</td>\n",
              "      <td>-0.063959</td>\n",
              "      <td>0.544930</td>\n",
              "      <td>0.712772</td>\n",
              "      <td>-1.494050</td>\n",
              "      <td>-2.636169</td>\n",
              "      <td>-0.850465</td>\n",
              "      <td>-0.622990</td>\n",
              "      <td>-1.833057</td>\n",
              "      <td>0.293024</td>\n",
              "      <td>3.552681</td>\n",
              "      <td>0.717611</td>\n",
              "      <td>3.305972</td>\n",
              "      <td>-2.715559</td>\n",
              "      <td>-2.682409</td>\n",
              "      <td>0.101050</td>\n",
              "    </tr>\n",
              "    <tr>\n",
              "      <th>1</th>\n",
              "      <td>-1.174176</td>\n",
              "      <td>0.332157</td>\n",
              "      <td>0.949919</td>\n",
              "      <td>-1.285328</td>\n",
              "      <td>2.199061</td>\n",
              "      <td>-0.151268</td>\n",
              "      <td>-0.427039</td>\n",
              "      <td>2.619246</td>\n",
              "      <td>-0.765884</td>\n",
              "      <td>-0.093780</td>\n",
              "      <td>0.935347</td>\n",
              "      <td>1.057796</td>\n",
              "      <td>-0.539275</td>\n",
              "      <td>-0.172662</td>\n",
              "      <td>-0.679051</td>\n",
              "      <td>0.607362</td>\n",
              "      <td>1.148635</td>\n",
              "      <td>2.437077</td>\n",
              "      <td>-0.313069</td>\n",
              "      <td>0.528104</td>\n",
              "      <td>-0.513476</td>\n",
              "      <td>0.766221</td>\n",
              "      <td>-1.466939</td>\n",
              "      <td>-2.318885</td>\n",
              "      <td>1.647223</td>\n",
              "      <td>-1.556443</td>\n",
              "      <td>-1.645581</td>\n",
              "      <td>-0.198467</td>\n",
              "      <td>-1.472066</td>\n",
              "      <td>-1.906147</td>\n",
              "      <td>-0.819750</td>\n",
              "      <td>0.012037</td>\n",
              "      <td>2.038836</td>\n",
              "      <td>0.468579</td>\n",
              "      <td>-0.517657</td>\n",
              "      <td>0.422326</td>\n",
              "      <td>0.803699</td>\n",
              "      <td>1.213219</td>\n",
              "      <td>1.382932</td>\n",
              "      <td>-1.817761</td>\n",
              "    </tr>\n",
              "    <tr>\n",
              "      <th>2</th>\n",
              "      <td>1.192222</td>\n",
              "      <td>-0.414371</td>\n",
              "      <td>0.067054</td>\n",
              "      <td>-2.233568</td>\n",
              "      <td>3.658881</td>\n",
              "      <td>0.089007</td>\n",
              "      <td>0.203439</td>\n",
              "      <td>-4.219054</td>\n",
              "      <td>-1.184919</td>\n",
              "      <td>-1.240310</td>\n",
              "      <td>-0.890270</td>\n",
              "      <td>0.909969</td>\n",
              "      <td>-11.851312</td>\n",
              "      <td>3.352420</td>\n",
              "      <td>-4.862125</td>\n",
              "      <td>-0.903317</td>\n",
              "      <td>-1.824344</td>\n",
              "      <td>0.045446</td>\n",
              "      <td>-2.126474</td>\n",
              "      <td>1.161563</td>\n",
              "      <td>-1.027912</td>\n",
              "      <td>-1.078792</td>\n",
              "      <td>1.848525</td>\n",
              "      <td>3.758918</td>\n",
              "      <td>0.623649</td>\n",
              "      <td>-0.091044</td>\n",
              "      <td>-1.033094</td>\n",
              "      <td>-0.254151</td>\n",
              "      <td>-4.377542</td>\n",
              "      <td>-1.196298</td>\n",
              "      <td>-0.604501</td>\n",
              "      <td>0.750054</td>\n",
              "      <td>-3.360521</td>\n",
              "      <td>0.856988</td>\n",
              "      <td>-2.751451</td>\n",
              "      <td>-1.582735</td>\n",
              "      <td>1.672246</td>\n",
              "      <td>0.656438</td>\n",
              "      <td>-0.932473</td>\n",
              "      <td>2.987436</td>\n",
              "    </tr>\n",
              "    <tr>\n",
              "      <th>3</th>\n",
              "      <td>1.573270</td>\n",
              "      <td>-0.580318</td>\n",
              "      <td>-0.866332</td>\n",
              "      <td>-0.603812</td>\n",
              "      <td>3.125716</td>\n",
              "      <td>0.870321</td>\n",
              "      <td>-0.161992</td>\n",
              "      <td>4.499666</td>\n",
              "      <td>1.038741</td>\n",
              "      <td>-1.092716</td>\n",
              "      <td>-0.713474</td>\n",
              "      <td>-0.136399</td>\n",
              "      <td>0.058990</td>\n",
              "      <td>-1.083458</td>\n",
              "      <td>1.622659</td>\n",
              "      <td>-1.685582</td>\n",
              "      <td>-1.222879</td>\n",
              "      <td>-0.215834</td>\n",
              "      <td>0.155612</td>\n",
              "      <td>0.627873</td>\n",
              "      <td>-0.732789</td>\n",
              "      <td>1.337941</td>\n",
              "      <td>1.335689</td>\n",
              "      <td>0.680062</td>\n",
              "      <td>0.504754</td>\n",
              "      <td>1.204808</td>\n",
              "      <td>0.144477</td>\n",
              "      <td>0.673993</td>\n",
              "      <td>1.027921</td>\n",
              "      <td>3.073382</td>\n",
              "      <td>1.022959</td>\n",
              "      <td>1.275598</td>\n",
              "      <td>-3.480110</td>\n",
              "      <td>-1.065252</td>\n",
              "      <td>2.153133</td>\n",
              "      <td>1.563539</td>\n",
              "      <td>2.767117</td>\n",
              "      <td>0.215748</td>\n",
              "      <td>0.619645</td>\n",
              "      <td>1.883397</td>\n",
              "    </tr>\n",
              "    <tr>\n",
              "      <th>4</th>\n",
              "      <td>-0.613071</td>\n",
              "      <td>-0.644204</td>\n",
              "      <td>1.112558</td>\n",
              "      <td>-0.032397</td>\n",
              "      <td>3.490142</td>\n",
              "      <td>-0.011935</td>\n",
              "      <td>1.443521</td>\n",
              "      <td>-4.290282</td>\n",
              "      <td>-1.761308</td>\n",
              "      <td>0.807652</td>\n",
              "      <td>-0.416575</td>\n",
              "      <td>0.433862</td>\n",
              "      <td>-12.822821</td>\n",
              "      <td>-0.048248</td>\n",
              "      <td>-5.031497</td>\n",
              "      <td>-0.704413</td>\n",
              "      <td>0.515952</td>\n",
              "      <td>-2.635899</td>\n",
              "      <td>-2.359881</td>\n",
              "      <td>-0.053400</td>\n",
              "      <td>0.741432</td>\n",
              "      <td>1.573043</td>\n",
              "      <td>0.723686</td>\n",
              "      <td>1.735602</td>\n",
              "      <td>0.335774</td>\n",
              "      <td>0.572905</td>\n",
              "      <td>0.625971</td>\n",
              "      <td>0.412084</td>\n",
              "      <td>-4.883833</td>\n",
              "      <td>-5.588332</td>\n",
              "      <td>0.513906</td>\n",
              "      <td>-1.803473</td>\n",
              "      <td>0.518579</td>\n",
              "      <td>-0.205029</td>\n",
              "      <td>-4.744566</td>\n",
              "      <td>-1.520015</td>\n",
              "      <td>1.830651</td>\n",
              "      <td>0.870772</td>\n",
              "      <td>-1.894609</td>\n",
              "      <td>0.408332</td>\n",
              "    </tr>\n",
              "  </tbody>\n",
              "</table>\n",
              "</div>"
            ],
            "text/plain": [
              "         0         1         2   ...        37        38        39\n",
              "0  0.299403 -1.226624  1.498425  ... -2.715559 -2.682409  0.101050\n",
              "1 -1.174176  0.332157  0.949919  ...  1.213219  1.382932 -1.817761\n",
              "2  1.192222 -0.414371  0.067054  ...  0.656438 -0.932473  2.987436\n",
              "3  1.573270 -0.580318 -0.866332  ...  0.215748  0.619645  1.883397\n",
              "4 -0.613071 -0.644204  1.112558  ...  0.870772 -1.894609  0.408332\n",
              "\n",
              "[5 rows x 40 columns]"
            ]
          },
          "metadata": {
            "tags": []
          },
          "execution_count": 16
        }
      ]
    },
    {
      "cell_type": "code",
      "metadata": {
        "id": "_jcxGNTW-p7z",
        "colab_type": "code",
        "colab": {}
      },
      "source": [
        "# 切分訓練集/測試集\n",
        "x_train, x_test, y_train, y_test = train_test_split(dfoff, dfY, test_size=0.25, random_state=42)\n",
        "\n",
        "# 建立模型\n",
        "clf = GradientBoostingClassifier(random_state=7)"
      ],
      "execution_count": 0,
      "outputs": []
    },
    {
      "cell_type": "code",
      "metadata": {
        "id": "By11hUSZKgWU",
        "colab_type": "code",
        "colab": {
          "base_uri": "https://localhost:8080/",
          "height": 87
        },
        "outputId": "75b1a195-d8e5-4785-932f-3f788e4bfaf0"
      },
      "source": [
        "# 訓練模型\n",
        "clf.fit(x_train, y_train)\n",
        "\n",
        "# 預測測試集\n",
        "y_pred = clf.predict(x_test)\n",
        "\n",
        "acc = metrics.accuracy_score(y_test, y_pred)\n",
        "print(\"Acuuracy: \", acc)"
      ],
      "execution_count": 18,
      "outputs": [
        {
          "output_type": "stream",
          "text": [
            "/usr/local/lib/python3.6/dist-packages/sklearn/ensemble/gradient_boosting.py:1450: DataConversionWarning: A column-vector y was passed when a 1d array was expected. Please change the shape of y to (n_samples, ), for example using ravel().\n",
            "  y = column_or_1d(y, warn=True)\n"
          ],
          "name": "stderr"
        },
        {
          "output_type": "stream",
          "text": [
            "Acuuracy:  0.88\n"
          ],
          "name": "stdout"
        }
      ]
    },
    {
      "cell_type": "code",
      "metadata": {
        "id": "oMT0vC_nK2H9",
        "colab_type": "code",
        "colab": {
          "base_uri": "https://localhost:8080/",
          "height": 154
        },
        "outputId": "2dfdbda3-6b22-4f46-98f0-b87972989d03"
      },
      "source": [
        "# 設定要訓練的超參數組合\n",
        "n_estimators = [50, 100, 150]\n",
        "max_depth = [1, 3, 5]\n",
        "param_grid = dict(n_estimators=n_estimators, max_depth=max_depth)\n",
        "\n",
        "## 建立搜尋物件，放入模型及參數組合字典 (n_jobs=-1 會使用全部 cpu 平行運算)\n",
        "grid_search = GridSearchCV(clf, param_grid, scoring=\"neg_mean_squared_error\", n_jobs=-1, verbose=1)\n",
        "\n",
        "# 開始搜尋最佳參數\n",
        "grid_result = grid_search.fit(x_train, y_train)\n",
        "\n",
        "# 預設會跑 3-fold cross-validadtion，總共 9 種參數組合，總共要 train 27 次模型"
      ],
      "execution_count": 19,
      "outputs": [
        {
          "output_type": "stream",
          "text": [
            "Fitting 3 folds for each of 9 candidates, totalling 27 fits\n"
          ],
          "name": "stdout"
        },
        {
          "output_type": "stream",
          "text": [
            "/usr/local/lib/python3.6/dist-packages/sklearn/model_selection/_split.py:1978: FutureWarning: The default value of cv will change from 3 to 5 in version 0.22. Specify it explicitly to silence this warning.\n",
            "  warnings.warn(CV_WARNING, FutureWarning)\n",
            "[Parallel(n_jobs=-1)]: Using backend LokyBackend with 2 concurrent workers.\n",
            "[Parallel(n_jobs=-1)]: Done  27 out of  27 | elapsed:    6.6s finished\n",
            "/usr/local/lib/python3.6/dist-packages/sklearn/ensemble/gradient_boosting.py:1450: DataConversionWarning: A column-vector y was passed when a 1d array was expected. Please change the shape of y to (n_samples, ), for example using ravel().\n",
            "  y = column_or_1d(y, warn=True)\n"
          ],
          "name": "stderr"
        }
      ]
    },
    {
      "cell_type": "code",
      "metadata": {
        "id": "h6RFMepvA5Re",
        "colab_type": "code",
        "colab": {
          "base_uri": "https://localhost:8080/",
          "height": 34
        },
        "outputId": "72fe6035-2fed-4455-e2ed-aae876bebbe9"
      },
      "source": [
        "# 印出最佳結果與最佳參數\n",
        "print(\"Best Accuracy: %f using %s\" % (grid_result.best_score_, grid_result.best_params_))"
      ],
      "execution_count": 20,
      "outputs": [
        {
          "output_type": "stream",
          "text": [
            "Best Accuracy: -0.126667 using {'max_depth': 5, 'n_estimators': 150}\n"
          ],
          "name": "stdout"
        }
      ]
    },
    {
      "cell_type": "code",
      "metadata": {
        "id": "s2hq4zNsBQw3",
        "colab_type": "code",
        "colab": {
          "base_uri": "https://localhost:8080/",
          "height": 70
        },
        "outputId": "b4463344-721d-46cc-e395-88fd3f077588"
      },
      "source": [
        "# 使用最佳參數重新建立模型\n",
        "reg_bestparam = GradientBoostingClassifier(max_depth=grid_result.best_params_['max_depth'],\n",
        "                                           n_estimators=grid_result.best_params_['n_estimators'])\n",
        "\n",
        "# 訓練模型\n",
        "reg_bestparam.fit(x_train, y_train)\n",
        "\n",
        "# 預測測試集\n",
        "y_pred = reg_bestparam.predict(x_test)"
      ],
      "execution_count": 21,
      "outputs": [
        {
          "output_type": "stream",
          "text": [
            "/usr/local/lib/python3.6/dist-packages/sklearn/ensemble/gradient_boosting.py:1450: DataConversionWarning: A column-vector y was passed when a 1d array was expected. Please change the shape of y to (n_samples, ), for example using ravel().\n",
            "  y = column_or_1d(y, warn=True)\n"
          ],
          "name": "stderr"
        }
      ]
    },
    {
      "cell_type": "code",
      "metadata": {
        "id": "rQcIDHPcGjtH",
        "colab_type": "code",
        "colab": {
          "base_uri": "https://localhost:8080/",
          "height": 1000
        },
        "outputId": "eda5e2ac-0458-4a86-be01-b704db004188"
      },
      "source": [
        "y_real_pred = reg_bestparam.predict(dftest)\n",
        "\n",
        "\n",
        "\n",
        "result = pd.DataFrame(y_real_pred)\n",
        "\n",
        "result.index += 1\n",
        "result.columns = ['Solution']\n",
        "result['Id'] = np.arange(1,result.shape[0]+1)\n",
        "result = result[['Id', 'Solution']]\n",
        "print(result)\n",
        "\n",
        "out = pd.DataFrame(result)\n",
        "out.to_csv('Submission_rf.csv', index=False)"
      ],
      "execution_count": 22,
      "outputs": [
        {
          "output_type": "stream",
          "text": [
            "        Id  Solution\n",
            "1        1         1\n",
            "2        2         0\n",
            "3        3         0\n",
            "4        4         0\n",
            "5        5         0\n",
            "6        6         0\n",
            "7        7         0\n",
            "8        8         1\n",
            "9        9         0\n",
            "10      10         0\n",
            "11      11         1\n",
            "12      12         1\n",
            "13      13         1\n",
            "14      14         0\n",
            "15      15         0\n",
            "16      16         1\n",
            "17      17         0\n",
            "18      18         1\n",
            "19      19         0\n",
            "20      20         1\n",
            "21      21         0\n",
            "22      22         1\n",
            "23      23         1\n",
            "24      24         0\n",
            "25      25         1\n",
            "26      26         1\n",
            "27      27         1\n",
            "28      28         0\n",
            "29      29         1\n",
            "30      30         0\n",
            "...    ...       ...\n",
            "8971  8971         0\n",
            "8972  8972         0\n",
            "8973  8973         1\n",
            "8974  8974         1\n",
            "8975  8975         0\n",
            "8976  8976         1\n",
            "8977  8977         0\n",
            "8978  8978         1\n",
            "8979  8979         1\n",
            "8980  8980         1\n",
            "8981  8981         1\n",
            "8982  8982         1\n",
            "8983  8983         0\n",
            "8984  8984         0\n",
            "8985  8985         0\n",
            "8986  8986         1\n",
            "8987  8987         1\n",
            "8988  8988         0\n",
            "8989  8989         1\n",
            "8990  8990         1\n",
            "8991  8991         0\n",
            "8992  8992         1\n",
            "8993  8993         0\n",
            "8994  8994         1\n",
            "8995  8995         1\n",
            "8996  8996         0\n",
            "8997  8997         1\n",
            "8998  8998         1\n",
            "8999  8999         0\n",
            "9000  9000         1\n",
            "\n",
            "[9000 rows x 2 columns]\n"
          ],
          "name": "stdout"
        }
      ]
    },
    {
      "cell_type": "code",
      "metadata": {
        "id": "vKalKOqF91ZH",
        "colab_type": "code",
        "colab": {}
      },
      "source": [
        ""
      ],
      "execution_count": 0,
      "outputs": []
    }
  ]
}