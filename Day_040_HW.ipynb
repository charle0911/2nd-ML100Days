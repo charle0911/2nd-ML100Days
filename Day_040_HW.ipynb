{
  "nbformat": 4,
  "nbformat_minor": 0,
  "metadata": {
    "colab": {
      "name": "Day_040_HW.ipynb",
      "version": "0.3.2",
      "provenance": [],
      "collapsed_sections": [],
      "toc_visible": true,
      "include_colab_link": true
    },
    "language_info": {
      "codemirror_mode": {
        "name": "ipython",
        "version": 3
      },
      "file_extension": ".py",
      "mimetype": "text/x-python",
      "name": "python",
      "nbconvert_exporter": "python",
      "pygments_lexer": "ipython3",
      "version": "3.7.3"
    },
    "kernelspec": {
      "display_name": "Python 3",
      "language": "python",
      "name": "python3"
    }
  },
  "cells": [
    {
      "cell_type": "markdown",
      "metadata": {
        "id": "view-in-github",
        "colab_type": "text"
      },
      "source": [
        "<a href=\"https://colab.research.google.com/github/charle0911/2nd-ML100Days/blob/master/Day_040_HW.ipynb\" target=\"_parent\"><img src=\"https://colab.research.google.com/assets/colab-badge.svg\" alt=\"Open In Colab\"/></a>"
      ]
    },
    {
      "cell_type": "markdown",
      "metadata": {
        "id": "x5ysNzARMa5u",
        "colab_type": "text"
      },
      "source": [
        "## [作業重點]\n",
        "使用 Sklearn 中的 Lasso, Ridge 模型，來訓練各種資料集，務必了解送進去模型訓練的**資料型態**為何，也請了解模型中各項參數的意義。\n",
        "\n",
        "機器學習的模型非常多種，但要訓練的資料多半有固定的格式，確保你了解訓練資料的格式為何，這樣在應用新模型時，就能夠最快的上手開始訓練！"
      ]
    },
    {
      "cell_type": "markdown",
      "metadata": {
        "id": "LY0qNiBiMa5w",
        "colab_type": "text"
      },
      "source": [
        "## 練習時間\n",
        "試著使用 sklearn datasets 的其他資料集 (boston, ...)，來訓練自己的線性迴歸模型，並加上適當的正則話來觀察訓練情形。"
      ]
    },
    {
      "cell_type": "code",
      "metadata": {
        "id": "PMXMYChBMa5x",
        "colab_type": "code",
        "colab": {}
      },
      "source": [
        "import numpy as np\n",
        "import matplotlib.pyplot as plt\n",
        "from sklearn import datasets, linear_model\n",
        "from sklearn.model_selection import train_test_split\n",
        "from sklearn.metrics import mean_squared_error, r2_score"
      ],
      "execution_count": 0,
      "outputs": []
    },
    {
      "cell_type": "code",
      "metadata": {
        "id": "YmuRLSggMa52",
        "colab_type": "code",
        "colab": {}
      },
      "source": [
        "boston = datasets.load_boston()\n",
        "\n",
        "# 切分訓練集/測試集\n",
        "x_train, x_test, y_train, y_test = train_test_split(boston.data, boston.target, test_size=0.2, random_state=4)\n",
        "\n",
        "# 建立一個線性回歸模型\n",
        "regr = linear_model.LinearRegression()\n",
        "\n",
        "# 將訓練資料丟進去模型訓練\n",
        "regr.fit(x_train, y_train)\n",
        "\n",
        "# 將測試資料丟進模型得到預測結果\n",
        "y_pred = regr.predict(x_test)"
      ],
      "execution_count": 0,
      "outputs": []
    },
    {
      "cell_type": "code",
      "metadata": {
        "scrolled": true,
        "id": "o0kkud06Ma56",
        "colab_type": "code",
        "colab": {
          "base_uri": "https://localhost:8080/",
          "height": 84
        },
        "outputId": "9cc4c9c7-e699-4b26-bb60-fd21a9b357f9"
      },
      "source": [
        "print(regr.coef_)"
      ],
      "execution_count": 3,
      "outputs": [
        {
          "output_type": "stream",
          "text": [
            "[-1.15966452e-01  4.71249231e-02  8.25980146e-03  3.23404531e+00\n",
            " -1.66865890e+01  3.88410651e+00 -1.08974442e-02 -1.54129540e+00\n",
            "  2.93208309e-01 -1.34059383e-02 -9.06296429e-01  8.80823439e-03\n",
            " -4.57723846e-01]\n"
          ],
          "name": "stdout"
        }
      ]
    },
    {
      "cell_type": "code",
      "metadata": {
        "id": "pvfbueozMa6B",
        "colab_type": "code",
        "colab": {
          "base_uri": "https://localhost:8080/",
          "height": 34
        },
        "outputId": "e50b191c-34f2-468a-beab-cf0c8510bb45"
      },
      "source": [
        "# 預測值與實際值的差距，使用 MSE\n",
        "print(\"Mean squared error: %.2f\"\n",
        "      % mean_squared_error(y_test, y_pred))"
      ],
      "execution_count": 4,
      "outputs": [
        {
          "output_type": "stream",
          "text": [
            "Mean squared error: 25.42\n"
          ],
          "name": "stdout"
        }
      ]
    },
    {
      "cell_type": "markdown",
      "metadata": {
        "id": "boeJpOJjMa6G",
        "colab_type": "text"
      },
      "source": [
        "### LASSO"
      ]
    },
    {
      "cell_type": "code",
      "metadata": {
        "id": "tkqoDfXTMa6I",
        "colab_type": "code",
        "colab": {}
      },
      "source": [
        "# 建立一個線性回歸模型\n",
        "lasso = linear_model.Lasso(alpha=1.0)\n",
        "\n",
        "# 將訓練資料丟進去模型訓練\n",
        "lasso.fit(x_train, y_train)\n",
        "\n",
        "# 將測試資料丟進模型得到預測結果\n",
        "y_pred = lasso.predict(x_test)"
      ],
      "execution_count": 0,
      "outputs": []
    },
    {
      "cell_type": "code",
      "metadata": {
        "id": "DRrS7TcYMa6L",
        "colab_type": "code",
        "colab": {
          "base_uri": "https://localhost:8080/",
          "height": 67
        },
        "outputId": "4fa39683-5318-4e62-971b-2f499a324f91"
      },
      "source": [
        "# 印出各特徵對應的係數，可以看到許多係數都變成 0，Lasso Regression 的確可以做特徵選取\n",
        "lasso.coef_"
      ],
      "execution_count": 6,
      "outputs": [
        {
          "output_type": "execute_result",
          "data": {
            "text/plain": [
              "array([-0.06494981,  0.04581458, -0.        ,  0.        , -0.        ,\n",
              "        1.18140024,  0.01109101, -0.73695809,  0.23350042, -0.01551065,\n",
              "       -0.69270805,  0.00763157, -0.6927848 ])"
            ]
          },
          "metadata": {
            "tags": []
          },
          "execution_count": 6
        }
      ]
    },
    {
      "cell_type": "code",
      "metadata": {
        "id": "qTxzSkR2Ma6Q",
        "colab_type": "code",
        "colab": {
          "base_uri": "https://localhost:8080/",
          "height": 34
        },
        "outputId": "5a515ce3-0863-42d3-f53e-2bf5cbea7bf7"
      },
      "source": [
        "# 預測值與實際值的差距，使用 MSE\n",
        "print(\"Mean squared error: %.2f\"\n",
        "      % mean_squared_error(y_test, y_pred))"
      ],
      "execution_count": 7,
      "outputs": [
        {
          "output_type": "stream",
          "text": [
            "Mean squared error: 28.95\n"
          ],
          "name": "stdout"
        }
      ]
    },
    {
      "cell_type": "markdown",
      "metadata": {
        "id": "w-4IeB9oMa6U",
        "colab_type": "text"
      },
      "source": [
        "### Ridge"
      ]
    },
    {
      "cell_type": "code",
      "metadata": {
        "id": "Nv6MHpxIMa6V",
        "colab_type": "code",
        "colab": {}
      },
      "source": [
        "# 建立一個線性回歸模型\n",
        "ridge = linear_model.Ridge(alpha=1.0)\n",
        "\n",
        "# 將訓練資料丟進去模型訓練\n",
        "ridge.fit(x_train, y_train)\n",
        "\n",
        "# 將測試資料丟進模型得到預測結果\n",
        "y_pred = regr.predict(x_test)"
      ],
      "execution_count": 0,
      "outputs": []
    },
    {
      "cell_type": "code",
      "metadata": {
        "id": "cpl1GZUMMa6Z",
        "colab_type": "code",
        "colab": {
          "base_uri": "https://localhost:8080/",
          "height": 84
        },
        "outputId": "0eea783d-8f95-4842-d457-2adb9d4dd238"
      },
      "source": [
        "# 印出 Ridge 的參數，可以很明顯看到比起 Linear Regression，參數的數值都明顯小了許多\n",
        "print(ridge.coef_)"
      ],
      "execution_count": 9,
      "outputs": [
        {
          "output_type": "stream",
          "text": [
            "[-1.12499445e-01  4.79562332e-02 -2.40438147e-02  2.96199458e+00\n",
            " -9.33966118e+00  3.93079015e+00 -1.73821202e-02 -1.43347691e+00\n",
            "  2.75239392e-01 -1.38920708e-02 -8.31116943e-01  9.15637729e-03\n",
            " -4.66460539e-01]\n"
          ],
          "name": "stdout"
        }
      ]
    },
    {
      "cell_type": "code",
      "metadata": {
        "id": "STB6VNi1Ma6f",
        "colab_type": "code",
        "colab": {
          "base_uri": "https://localhost:8080/",
          "height": 34
        },
        "outputId": "b929b1d2-a8d8-47ea-eaca-a8b499cdf988"
      },
      "source": [
        "# 預測值與實際值的差距，使用 MSE\n",
        "print(\"Mean squared error: %.2f\"\n",
        "      % mean_squared_error(y_test, y_pred))"
      ],
      "execution_count": 10,
      "outputs": [
        {
          "output_type": "stream",
          "text": [
            "Mean squared error: 25.42\n"
          ],
          "name": "stdout"
        }
      ]
    },
    {
      "cell_type": "code",
      "metadata": {
        "id": "S9dCpcYvMa6l",
        "colab_type": "code",
        "colab": {}
      },
      "source": [
        ""
      ],
      "execution_count": 0,
      "outputs": []
    }
  ]
}